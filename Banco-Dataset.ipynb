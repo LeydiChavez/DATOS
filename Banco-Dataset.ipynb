{
  "nbformat": 4,
  "nbformat_minor": 0,
  "metadata": {
    "colab": {
      "name": "Tarea_sesion_10",
      "provenance": [],
      "collapsed_sections": [
        "CX_yuw5nu-zh",
        "tthyk7g1uA_b",
        "DJ9QNfQj-iRY",
        "U_oJMV17_E3W",
        "0ZOhLBjl_FIk",
        "LOPR9HT2_FQt",
        "dk3A1K-R_FYx",
        "8Q7ctkMa_VsU",
        "LsVi2V41_Vxq",
        "1NRx3HlI_V12",
        "oFW86CYK_WTI",
        "I1_HS42c_WWV",
        "FQuvak5m_1k6",
        "KYxrYidFvdtQ",
        "-j19i05rxGS9",
        "C4debb3jzDjz",
        "MgqqHJTw1pbS",
        "4RDiV-VK1iC3",
        "vENzO4pJMW3h",
        "G-bYNSp1C1ul",
        "TWTFvYAiHfNY",
        "vpvcR_FqnvwK",
        "ziKWfPgPolsO",
        "pLMhYJ2iqnLX",
        "p7C-h-5mGscu",
        "NVpoY1k617N5",
        "8nM7NCOj2VY9",
        "v6HkCl7X2fXc",
        "bcqcfa3o2mDL"
      ],
      "toc_visible": true
    },
    "kernelspec": {
      "display_name": "Python 3",
      "name": "python3"
    },
    "language_info": {
      "name": "python"
    }
  },
  "cells": [
    {
      "cell_type": "markdown",
      "metadata": {
        "id": "2Br1KD7alif0"
      },
      "source": [
        "# **Dataset BANCO**"
      ]
    },
    {
      "cell_type": "markdown",
      "metadata": {
        "id": "rF5yT6_YliIr"
      },
      "source": [
        "\n",
        "El caso trata sobre un banco que está evaluando insertar una campaña para ofrecer un nuevo producto de Préstamo Personal a sus clientes internos. Esta campaña el banco la realizó el año pasado para sus clientes y mostró una tasa de conversión saludable de más del 9% de éxito. Esto lo ha animado a desarrollar un modelo para predecir si un cliente responderá favorablemente en adquirir el préstamo o no.\n",
        "\n",
        "El archivo contiene datos sobre 5000 clientes. Los datos incluyen información demográfica del cliente, data del cliente con el banco y la respuesta del cliente a la última campaña de préstamos personales.\n",
        "Entre estos 5000 clientes, solo 480 (= 9,6%) aceptaron el préstamo personal que se les ofreció en la campaña anterior.\n",
        "$$ $$\n",
        "\n",
        "VARIABLES:\n",
        "\n",
        "▶ **ID:** ID del cliente\n",
        "\n",
        "▶ **Age:** Edad del cliente\n",
        "\n",
        "▶ **Experience:** Años de experiencia laboral\n",
        "\n",
        "▶ **Income:** Ingresos anuales del cliente ( en miles)\n",
        "\n",
        "▶ **ZIP Code:** Codigo postal de domicilio\n",
        "\n",
        "▶ **Family:** Tamaño de familia\n",
        "\n",
        "▶ **CCAvg:** Consumo Promedio en su Tarjetas de Crédito, de manera mensual\n",
        "\n",
        "▶ **Education:** Nivel de Educación. 1: Secundaria Completa, 2: Educación Superior Completa, 3: Educación Avanzada\n",
        "\n",
        "▶ **Mortgage:** Valor de la hipoteca de la casa, si corresponde (en miles)\n",
        "\n",
        "▶ **Securities_Account:** Cuenta de valores\n",
        "\n",
        "▶\t**CD_Account:** ¿Tiene el cliente una cuenta de certificado de depósito (CD) con el banco?\n",
        "\n",
        "▶\t**Online:** ¿Utiliza el cliente servicios bancarios por Internet?\n",
        "\n",
        "▶\t**CreditCard:** ¿El cliente utiliza una tarjeta de crédito emitida por el banco?\n",
        "\n",
        "▶ **Target:** ¿Este cliente aceptó el préstamo personal ofrecido en la última campaña?\n",
        "0: No\n",
        "1: Si"
      ]
    },
    {
      "cell_type": "markdown",
      "metadata": {
        "id": "M_D9xLBNo-7t"
      },
      "source": [
        "IMPORTAMOS LAS LIBRERIAS"
      ]
    },
    {
      "cell_type": "code",
      "metadata": {
        "id": "ZF-tiv4OlKbQ"
      },
      "source": [
        "# libreria para funciones estadisticas\n",
        "import numpy as np \n",
        "# libreria para dataframes\n",
        "import pandas as pd\n",
        "# librerias de graficos\n",
        "import matplotlib.pyplot as plt\n",
        "import seaborn as sns\n",
        "# comando para poder graficar en una sola linea\n",
        "%matplotlib inline"
      ],
      "execution_count": null,
      "outputs": []
    },
    {
      "cell_type": "markdown",
      "metadata": {
        "id": "fmuG53uxpCDP"
      },
      "source": [
        "IMPORTAMOS EL DATASET"
      ]
    },
    {
      "cell_type": "code",
      "metadata": {
        "id": "qmBTbI1YlhlT"
      },
      "source": [
        "df=pd.read_csv(\"/content/data_loan.csv\", sep=\";\")"
      ],
      "execution_count": null,
      "outputs": []
    },
    {
      "cell_type": "markdown",
      "metadata": {
        "id": "yrTp79urm5AJ"
      },
      "source": [
        "## **Entender el problema**"
      ]
    },
    {
      "cell_type": "code",
      "metadata": {
        "colab": {
          "base_uri": "https://localhost:8080/",
          "height": 226
        },
        "id": "eJKnpJGRpJNw",
        "outputId": "429adcee-0276-4196-8f29-cc14b13e40da"
      },
      "source": [
        "#Mostramos los 5 primeros datos del dataframe\n",
        "df.head()"
      ],
      "execution_count": null,
      "outputs": [
        {
          "output_type": "execute_result",
          "data": {
            "text/html": [
              "<div>\n",
              "<style scoped>\n",
              "    .dataframe tbody tr th:only-of-type {\n",
              "        vertical-align: middle;\n",
              "    }\n",
              "\n",
              "    .dataframe tbody tr th {\n",
              "        vertical-align: top;\n",
              "    }\n",
              "\n",
              "    .dataframe thead th {\n",
              "        text-align: right;\n",
              "    }\n",
              "</style>\n",
              "<table border=\"1\" class=\"dataframe\">\n",
              "  <thead>\n",
              "    <tr style=\"text-align: right;\">\n",
              "      <th></th>\n",
              "      <th>ID</th>\n",
              "      <th>Age</th>\n",
              "      <th>Experience</th>\n",
              "      <th>Income</th>\n",
              "      <th>ZIP_Code</th>\n",
              "      <th>Family</th>\n",
              "      <th>CCAvg</th>\n",
              "      <th>Education</th>\n",
              "      <th>Mortgage</th>\n",
              "      <th>Securities_Account</th>\n",
              "      <th>CD_Account</th>\n",
              "      <th>Online</th>\n",
              "      <th>CreditCard</th>\n",
              "      <th>Target</th>\n",
              "    </tr>\n",
              "  </thead>\n",
              "  <tbody>\n",
              "    <tr>\n",
              "      <th>0</th>\n",
              "      <td>1</td>\n",
              "      <td>25.0</td>\n",
              "      <td>1</td>\n",
              "      <td>49.0</td>\n",
              "      <td>91107</td>\n",
              "      <td>4</td>\n",
              "      <td>1.6</td>\n",
              "      <td>1</td>\n",
              "      <td>0</td>\n",
              "      <td>1</td>\n",
              "      <td>0</td>\n",
              "      <td>0</td>\n",
              "      <td>0</td>\n",
              "      <td>0</td>\n",
              "    </tr>\n",
              "    <tr>\n",
              "      <th>1</th>\n",
              "      <td>2</td>\n",
              "      <td>45.0</td>\n",
              "      <td>19</td>\n",
              "      <td>34.0</td>\n",
              "      <td>90089</td>\n",
              "      <td>3</td>\n",
              "      <td>1.5</td>\n",
              "      <td>1</td>\n",
              "      <td>0</td>\n",
              "      <td>1</td>\n",
              "      <td>0</td>\n",
              "      <td>0</td>\n",
              "      <td>0</td>\n",
              "      <td>0</td>\n",
              "    </tr>\n",
              "    <tr>\n",
              "      <th>2</th>\n",
              "      <td>3</td>\n",
              "      <td>39.0</td>\n",
              "      <td>15</td>\n",
              "      <td>11.0</td>\n",
              "      <td>94720</td>\n",
              "      <td>1</td>\n",
              "      <td>1.0</td>\n",
              "      <td>1</td>\n",
              "      <td>0</td>\n",
              "      <td>0</td>\n",
              "      <td>0</td>\n",
              "      <td>0</td>\n",
              "      <td>0</td>\n",
              "      <td>0</td>\n",
              "    </tr>\n",
              "    <tr>\n",
              "      <th>3</th>\n",
              "      <td>4</td>\n",
              "      <td>35.0</td>\n",
              "      <td>9</td>\n",
              "      <td>100.0</td>\n",
              "      <td>94112</td>\n",
              "      <td>1</td>\n",
              "      <td>2.7</td>\n",
              "      <td>2</td>\n",
              "      <td>0</td>\n",
              "      <td>0</td>\n",
              "      <td>0</td>\n",
              "      <td>0</td>\n",
              "      <td>0</td>\n",
              "      <td>0</td>\n",
              "    </tr>\n",
              "    <tr>\n",
              "      <th>4</th>\n",
              "      <td>5</td>\n",
              "      <td>35.0</td>\n",
              "      <td>8</td>\n",
              "      <td>45.0</td>\n",
              "      <td>91330</td>\n",
              "      <td>4</td>\n",
              "      <td>1.0</td>\n",
              "      <td>2</td>\n",
              "      <td>0</td>\n",
              "      <td>0</td>\n",
              "      <td>0</td>\n",
              "      <td>0</td>\n",
              "      <td>1</td>\n",
              "      <td>0</td>\n",
              "    </tr>\n",
              "  </tbody>\n",
              "</table>\n",
              "</div>"
            ],
            "text/plain": [
              "   ID   Age  Experience  Income  ...  CD_Account  Online  CreditCard  Target\n",
              "0   1  25.0           1    49.0  ...           0       0           0       0\n",
              "1   2  45.0          19    34.0  ...           0       0           0       0\n",
              "2   3  39.0          15    11.0  ...           0       0           0       0\n",
              "3   4  35.0           9   100.0  ...           0       0           0       0\n",
              "4   5  35.0           8    45.0  ...           0       0           1       0\n",
              "\n",
              "[5 rows x 14 columns]"
            ]
          },
          "metadata": {},
          "execution_count": 3
        }
      ]
    },
    {
      "cell_type": "code",
      "metadata": {
        "colab": {
          "base_uri": "https://localhost:8080/"
        },
        "id": "Bur1U9aJpJG9",
        "outputId": "438669bc-9895-4a74-f308-d07d7318d0fc"
      },
      "source": [
        "#Mostraremos todos los nombres de las columnas\n",
        "df.columns"
      ],
      "execution_count": null,
      "outputs": [
        {
          "output_type": "execute_result",
          "data": {
            "text/plain": [
              "Index(['ID', 'Age', 'Experience', 'Income', 'ZIP_Code', 'Family', 'CCAvg',\n",
              "       'Education', 'Mortgage', 'Securities_Account', 'CD_Account', 'Online',\n",
              "       'CreditCard', 'Target'],\n",
              "      dtype='object')"
            ]
          },
          "metadata": {},
          "execution_count": 4
        }
      ]
    },
    {
      "cell_type": "code",
      "metadata": {
        "colab": {
          "base_uri": "https://localhost:8080/"
        },
        "id": "EsC0wg_3pXpm",
        "outputId": "065689cf-05bd-4eee-dbdd-82c49abded27"
      },
      "source": [
        "#Veamos cuantos datos contiene nuestro DataFrame\n",
        "len(df)"
      ],
      "execution_count": null,
      "outputs": [
        {
          "output_type": "execute_result",
          "data": {
            "text/plain": [
              "5000"
            ]
          },
          "metadata": {},
          "execution_count": 5
        }
      ]
    },
    {
      "cell_type": "code",
      "metadata": {
        "colab": {
          "base_uri": "https://localhost:8080/",
          "height": 405
        },
        "id": "14wlpArnpJBR",
        "outputId": "9a8a9986-e41e-419b-e0d4-fb6caf378644"
      },
      "source": [
        "#Graficaremos 2 tipos de grafico para poder analizar la variable target\n",
        "f, ax = plt.subplots(1,2,figsize=(14,5))\n",
        "df[\"Target\"].value_counts().plot.pie(autopct=\"%1.1f%%\", ax = ax[0])\n",
        "ax[0].set_title(\"Target - Grafico circular\")\n",
        "\n",
        "sns.countplot(\"Target\", data=df, ax = ax[1])\n",
        "ax[1].set_title(\"Target - Grafico de barras\")\n",
        "plt.show()"
      ],
      "execution_count": null,
      "outputs": [
        {
          "output_type": "stream",
          "name": "stderr",
          "text": [
            "/usr/local/lib/python3.7/dist-packages/seaborn/_decorators.py:43: FutureWarning: Pass the following variable as a keyword arg: x. From version 0.12, the only valid positional argument will be `data`, and passing other arguments without an explicit keyword will result in an error or misinterpretation.\n",
            "  FutureWarning\n"
          ]
        },
        {
          "output_type": "display_data",
          "data": {
            "image/png": "[encoded data removed]",
            "text/plain": [
              "<Figure size 1008x360 with 2 Axes>"
            ]
          },
          "metadata": {
            "needs_background": "light"
          }
        }
      ]
    },
    {
      "cell_type": "markdown",
      "metadata": {
        "id": "KoTEs7L2pm4b"
      },
      "source": [
        "En la grafica de pastel podemos verificar lo que se dijo en el enunciado, que solo el 9.6% de las personas acepto el prestamo personal ofrecido en la ultima campaña.\n",
        "\n",
        "En el grafico de barras se puede evidenciar los mismo.\n"
      ]
    },
    {
      "cell_type": "code",
      "metadata": {
        "colab": {
          "base_uri": "https://localhost:8080/"
        },
        "id": "_6L5qHPnpI5b",
        "outputId": "89a9a042-4aa3-4491-8bbc-6d88f9ce89bc"
      },
      "source": [
        "#averiguemos cuantos datos nulos tenemos entre nuestros datos \n",
        "df.isnull().sum()"
      ],
      "execution_count": null,
      "outputs": [
        {
          "output_type": "execute_result",
          "data": {
            "text/plain": [
              "ID                     0\n",
              "Age                   25\n",
              "Experience             0\n",
              "Income                12\n",
              "ZIP_Code               0\n",
              "Family                 0\n",
              "CCAvg                  0\n",
              "Education              0\n",
              "Mortgage               0\n",
              "Securities_Account     0\n",
              "CD_Account             0\n",
              "Online                 0\n",
              "CreditCard             0\n",
              "Target                 0\n",
              "dtype: int64"
            ]
          },
          "metadata": {},
          "execution_count": 7
        }
      ]
    },
    {
      "cell_type": "markdown",
      "metadata": {
        "id": "1yqHqs9gjQBz"
      },
      "source": [
        "Las variables Age e Income contienen algunos valores nulos\n",
        "______________"
      ]
    },
    {
      "cell_type": "markdown",
      "metadata": {
        "id": "DEsKQpWnmzHs"
      },
      "source": [
        "## **1. EDA**"
      ]
    },
    {
      "cell_type": "markdown",
      "metadata": {
        "id": "CX_yuw5nu-zh"
      },
      "source": [
        "### 1.1. ID (Variable continua)"
      ]
    },
    {
      "cell_type": "code",
      "metadata": {
        "colab": {
          "base_uri": "https://localhost:8080/"
        },
        "id": "xeST4X7Mvdc1",
        "outputId": "3a0b7898-04bb-4cb0-9b57-97196cb8503e"
      },
      "source": [
        "print(\"Variable Continua. Existen \",len(df[\"ID\"].unique()))"
      ],
      "execution_count": null,
      "outputs": [
        {
          "output_type": "stream",
          "name": "stdout",
          "text": [
            "Variable Continua. Existen  5000\n"
          ]
        }
      ]
    },
    {
      "cell_type": "markdown",
      "metadata": {
        "id": "AxykaZhvwu49"
      },
      "source": [
        "Podemos observar que el ID es mas como un conteo de la cantidad de personas de la data. Veamos que tanta importancia tiene en la variable target.\n"
      ]
    },
    {
      "cell_type": "code",
      "metadata": {
        "colab": {
          "base_uri": "https://localhost:8080/"
        },
        "id": "YBbT-cyal_Bv",
        "outputId": "c5d78c4a-1108-43e1-b7c4-ea43a7757d5e"
      },
      "source": [
        "sns.heatmap(df.corr(),annot=True,cbar= True,cmap='GnBu',linewidths=0.2,annot_kws={'size':10})\n",
        "fig=plt.gcf()\n",
        "fig.set_size_inches(12,10)\n",
        "plt.xticks(fontsize=10)\n",
        "plt.yticks(fontsize=10)\n",
        "plt.show()"
      ],
      "execution_count": null,
      "outputs": [
        {
          "output_type": "display_data",
          "data": {
            "image/png": "[encoded data removed]",
            "text/plain": [
              "<Figure size 864x720 with 2 Axes>"
            ]
          },
          "metadata": {
            "needs_background": "light"
          }
        }
      ]
    },
    {
      "cell_type": "markdown",
      "metadata": {
        "id": "Mtu0q1xU0vWn"
      },
      "source": [
        "Solo tiene un -0.025 de correlacion con la variable Target, seria recomendable eliminarla."
      ]
    },
    {
      "cell_type": "code",
      "metadata": {
        "id": "CFi1JhLd1Vks"
      },
      "source": [
        "df1 = df.drop(['ID'], axis=1)"
      ],
      "execution_count": null,
      "outputs": []
    },
    {
      "cell_type": "markdown",
      "metadata": {
        "id": "MuLvmKKc5LJu"
      },
      "source": [
        "Se elimino la variable **ID**, sin embargo se puede observar mas variables que tienen una baja correlacion con la variable Target, estaremos evaluando a estas mas adelante.\n",
        "_____________"
      ]
    },
    {
      "cell_type": "markdown",
      "metadata": {
        "id": "tthyk7g1uA_b"
      },
      "source": [
        "### 1.2. Age (Variable continua)"
      ]
    },
    {
      "cell_type": "code",
      "metadata": {
        "colab": {
          "base_uri": "https://localhost:8080/"
        },
        "id": "4fspxFoK7JpE",
        "outputId": "0850e156-910b-40ae-bd94-ba5769a4f5f2"
      },
      "source": [
        "df[\"Age\"].unique()"
      ],
      "execution_count": null,
      "outputs": [
        {
          "output_type": "execute_result",
          "data": {
            "text/plain": [
              "array([25., 45., 39., 35., 37., 53., 50., 34., nan, 48., 59., 67., 60.,\n",
              "       38., 42., 46., 55., 56., 57., 29., 44., 36., 43., 40., 30., 31.,\n",
              "       32., 61., 41., 28., 49., 47., 62., 58., 54., 33., 27., 65., 66.,\n",
              "       24., 52., 51., 26., 64., 63., 23.])"
            ]
          },
          "metadata": {},
          "execution_count": 11
        }
      ]
    },
    {
      "cell_type": "code",
      "metadata": {
        "colab": {
          "base_uri": "https://localhost:8080/"
        },
        "id": "3uWaq8KRtjOm",
        "outputId": "be0cce41-e65b-4f4d-eb67-1e3546b1a46d"
      },
      "source": [
        "# Hallemos las edades minimas y maximas\n",
        "print(\"El valor máximo de edad es: \", df[\"Age\"].max())\n",
        "print(\"El valor minimo de edad es: \", df[\"Age\"].min())\n",
        "print(\"El valor promedio de edad es: \", df[\"Age\"].mean())"
      ],
      "execution_count": null,
      "outputs": [
        {
          "output_type": "stream",
          "name": "stdout",
          "text": [
            "El valor máximo de edad es:  67.0\n",
            "El valor minimo de edad es:  23.0\n",
            "El valor promedio de edad es:  45.35557788944724\n"
          ]
        }
      ]
    },
    {
      "cell_type": "code",
      "metadata": {
        "colab": {
          "base_uri": "https://localhost:8080/"
        },
        "id": "NVokZuTe7qA9",
        "outputId": "49ca8cd3-d975-4a3a-b3b6-d4c3b73e40b0"
      },
      "source": [
        "sns.violinplot(\"CreditCard\",\"Age\", hue=\"Target\", data=df, split=True)\n",
        "plt.show()"
      ],
      "execution_count": null,
      "outputs": [
        {
          "output_type": "stream",
          "name": "stderr",
          "text": [
            "/usr/local/lib/python3.7/dist-packages/seaborn/_decorators.py:43: FutureWarning: Pass the following variables as keyword args: x, y. From version 0.12, the only valid positional argument will be `data`, and passing other arguments without an explicit keyword will result in an error or misinterpretation.\n",
            "  FutureWarning\n"
          ]
        },
        {
          "output_type": "display_data",
          "data": {
            "image/png": "[encoded data removed]",
            "text/plain": [
              "<Figure size 432x288 with 1 Axes>"
            ]
          },
          "metadata": {
            "needs_background": "light"
          }
        }
      ]
    },
    {
      "cell_type": "markdown",
      "metadata": {
        "id": "k-gPEgqo9WWb"
      },
      "source": [
        "Si observamos la grafica nos daremos cuenta que es muy parejo los datos de las personas que tienen tarjeto de credito y las que no tienen, ademas q su mayoria estan entre los 30 y 60.\n"
      ]
    },
    {
      "cell_type": "markdown",
      "metadata": {
        "id": "j2wROnX2wFMh"
      },
      "source": [
        "Trataremos los valores nulos de Age:"
      ]
    },
    {
      "cell_type": "code",
      "metadata": {
        "id": "fwnULYwUri2a"
      },
      "source": [
        "df[\"Age\"].fillna(45, inplace = True)"
      ],
      "execution_count": null,
      "outputs": []
    },
    {
      "cell_type": "code",
      "metadata": {
        "colab": {
          "base_uri": "https://localhost:8080/"
        },
        "id": "OfKh_YatsGP0",
        "outputId": "74d636a1-cc74-4784-f384-ee631b3dc4d3"
      },
      "source": [
        "df[\"Age\"].isnull().any()"
      ],
      "execution_count": null,
      "outputs": [
        {
          "output_type": "execute_result",
          "data": {
            "text/plain": [
              "False"
            ]
          },
          "metadata": {},
          "execution_count": 15
        }
      ]
    },
    {
      "cell_type": "markdown",
      "metadata": {
        "id": "Jg9KJb6BsZti"
      },
      "source": [
        "Se hizo una imputación de missing por el promedio = 45\n",
        "\n",
        "Sin embargo si observamos el **Diagrama de correlacion** podemos ver que la variable **Age** no es muy relevante para nuestra variable target pues solo tiene -0.0058 de correlacion, por lo tanto procederemos tambien a eliminarla."
      ]
    },
    {
      "cell_type": "code",
      "metadata": {
        "id": "y8tsNM3m-Tb2"
      },
      "source": [
        "df1 = df1.drop(['Age'], axis=1)"
      ],
      "execution_count": null,
      "outputs": []
    },
    {
      "cell_type": "markdown",
      "metadata": {
        "id": "hB_Z6MvW-YNA"
      },
      "source": [
        "_______________________"
      ]
    },
    {
      "cell_type": "markdown",
      "metadata": {
        "id": "DJ9QNfQj-iRY"
      },
      "source": [
        "### 1.3. Experience (Variable continua)"
      ]
    },
    {
      "cell_type": "code",
      "metadata": {
        "colab": {
          "base_uri": "https://localhost:8080/"
        },
        "id": "O6SEmeHDZx_3",
        "outputId": "3a0e3260-de42-4dd1-9147-44924f6ec8b6"
      },
      "source": [
        "print(\"Los años de experiencia maxima es: \", df[\"Experience\"].max())\n",
        "print(\"los años de experiencia minima es\", df[\"Experience\"].min())\n",
        "print(\"El valor promedio de años de experiencia es: \", df[\"Experience\"].mean())"
      ],
      "execution_count": null,
      "outputs": [
        {
          "output_type": "stream",
          "name": "stdout",
          "text": [
            "Los años de experiencia maxima es:  43\n",
            "los años de experiencia minima es -3\n",
            "El valor promedio de años de experiencia es:  20.1046\n"
          ]
        }
      ]
    },
    {
      "cell_type": "code",
      "metadata": {
        "colab": {
          "base_uri": "https://localhost:8080/"
        },
        "id": "L9pdK_ldc_Sa",
        "outputId": "3375ac06-555c-41d3-b124-3ed2f3597dde"
      },
      "source": [
        "df[\"Experience\"].unique()"
      ],
      "execution_count": null,
      "outputs": [
        {
          "output_type": "execute_result",
          "data": {
            "text/plain": [
              "array([ 1, 19, 15,  9,  8, 13, 27, 24, 10, 39,  5, 23, 32, 41, 30, 14, 18,\n",
              "       21, 28, 31, 11, 16, 20, 35,  6, 25,  7, 12, 26, 37, 17,  2, 36, 29,\n",
              "        3, 22, -1, 34,  0, 38, 40, 33,  4, -2, 42, -3, 43])"
            ]
          },
          "metadata": {},
          "execution_count": 18
        }
      ]
    },
    {
      "cell_type": "markdown",
      "metadata": {
        "id": "8bWOJN_VeZrZ"
      },
      "source": [
        "podemos observar que existen 3 valores en negativo, por lo tanto tomaremos a estos como 0 años de experiencia"
      ]
    },
    {
      "cell_type": "code",
      "metadata": {
        "id": "A_lXTHeNke7K"
      },
      "source": [
        "df['Experience'].replace([-1,-2,-3],[0,0,0],inplace=True)"
      ],
      "execution_count": null,
      "outputs": []
    },
    {
      "cell_type": "code",
      "metadata": {
        "colab": {
          "base_uri": "https://localhost:8080/"
        },
        "id": "b2gVu4s_leFK",
        "outputId": "36ded385-dd21-411d-de00-579c454132b1"
      },
      "source": [
        "print(\"Los años de experiencia maxima es: \", df[\"Experience\"].max())\n",
        "print(\"los años de experiencia minima es\", df[\"Experience\"].min())\n",
        "print(\"El valor promedio de años de experiencia es: \", df[\"Experience\"].mean())"
      ],
      "execution_count": null,
      "outputs": [
        {
          "output_type": "stream",
          "name": "stdout",
          "text": [
            "Los años de experiencia maxima es:  43\n",
            "los años de experiencia minima es 0\n",
            "El valor promedio de años de experiencia es:  20.1196\n"
          ]
        }
      ]
    },
    {
      "cell_type": "markdown",
      "metadata": {
        "id": "M6PEH96TmWCg"
      },
      "source": [
        "Ahora si obtuvimos datos mas reales"
      ]
    },
    {
      "cell_type": "code",
      "metadata": {
        "colab": {
          "base_uri": "https://localhost:8080/"
        },
        "id": "MidJ8HDyma4o",
        "outputId": "80903cef-e3bf-430e-f795-83276317e2f9"
      },
      "source": [
        "sns.distplot(df[\"Experience\"])"
      ],
      "execution_count": null,
      "outputs": [
        {
          "output_type": "stream",
          "name": "stderr",
          "text": [
            "/usr/local/lib/python3.7/dist-packages/seaborn/distributions.py:2619: FutureWarning: `distplot` is a deprecated function and will be removed in a future version. Please adapt your code to use either `displot` (a figure-level function with similar flexibility) or `histplot` (an axes-level function for histograms).\n",
            "  warnings.warn(msg, FutureWarning)\n"
          ]
        },
        {
          "output_type": "execute_result",
          "data": {
            "text/plain": [
              "<matplotlib.axes._subplots.AxesSubplot at 0x7f4f27135cd0>"
            ]
          },
          "metadata": {},
          "execution_count": 21
        },
        {
          "output_type": "display_data",
          "data": {
            "image/png": "[encoded data removed]",
            "text/plain": [
              "<Figure size 432x288 with 1 Axes>"
            ]
          },
          "metadata": {
            "needs_background": "light"
          }
        }
      ]
    },
    {
      "cell_type": "markdown",
      "metadata": {
        "id": "9NvNqbMpmrN7"
      },
      "source": [
        "Por el grafico podemos llegar a concluir que los años de experiencia se centran en entre los 10, los 18, los 25 y los 35 años.\n"
      ]
    },
    {
      "cell_type": "markdown",
      "metadata": {
        "id": "aOa9y-GSp-wt"
      },
      "source": [
        "_________"
      ]
    },
    {
      "cell_type": "markdown",
      "metadata": {
        "id": "U_oJMV17_E3W"
      },
      "source": [
        "### 1.4. Income (Variable continua)"
      ]
    },
    {
      "cell_type": "code",
      "metadata": {
        "colab": {
          "base_uri": "https://localhost:8080/"
        },
        "id": "6Bd5o8jKn-v1",
        "outputId": "a45bb611-226e-4383-8cdb-a128c12b2b7c"
      },
      "source": [
        "df[\"Income\"].unique()"
      ],
      "execution_count": null,
      "outputs": [
        {
          "output_type": "execute_result",
          "data": {
            "text/plain": [
              "array([ 49.,  34.,  11., 100.,  45.,  29.,  72.,  22.,  81., 180., 105.,\n",
              "       114.,  40., 112., 130., 193.,  21.,  25.,  63.,  62.,  43., 152.,\n",
              "        83., 158.,  48., 119.,  35.,  41.,  18.,  50., 121.,  71., 141.,\n",
              "        80.,  84.,  60., 132., 104.,  52., 194.,   8., 131.,  nan, 190.,\n",
              "        44., 139.,  93., 188.,  39., 125.,  32.,  20., 115.,  69.,  85.,\n",
              "       135.,  12.,  19.,  82., 109.,  42.,  78.,  51., 113., 118.,  64.,\n",
              "       161.,  94.,  15.,  74.,  30.,  38.,   9.,  92.,  61.,  73.,  70.,\n",
              "       149.,  98., 128.,  31.,  58.,  54., 124., 163.,  24.,  79., 134.,\n",
              "        23.,  13., 138., 171., 168.,  65.,  10., 148., 159., 169., 144.,\n",
              "       165.,  59.,  91., 172.,  55., 155.,  53.,  89.,  28.,  75., 170.,\n",
              "       120.,  99., 111.,  33., 129., 122., 150., 195., 110., 101., 191.,\n",
              "       140.,  68., 153., 173., 174.,  90., 133., 179., 145., 200., 183.,\n",
              "       182.,  88., 160., 205., 164.,  14., 175., 103., 108., 185., 204.,\n",
              "       154., 102., 192., 202., 162., 142.,  95., 184., 181., 143., 123.,\n",
              "       178., 198., 201., 203., 189., 151., 199., 224., 218.])"
            ]
          },
          "metadata": {},
          "execution_count": 22
        }
      ]
    },
    {
      "cell_type": "code",
      "metadata": {
        "colab": {
          "base_uri": "https://localhost:8080/"
        },
        "id": "inXgzs-6oPZR",
        "outputId": "46150103-e81f-4ccd-b4c9-ec62decd7c5e"
      },
      "source": [
        "print(\"El maximo ingreso anual es: \", df[\"Income\"].max())\n",
        "print(\"el minimo ingreso anual es: \", df[\"Income\"].min())\n",
        "print(\"El valor promedio del ingreso anual es: \", df[\"Income\"].mean())"
      ],
      "execution_count": null,
      "outputs": [
        {
          "output_type": "stream",
          "name": "stdout",
          "text": [
            "El maximo ingreso anual es:  224.0\n",
            "el minimo ingreso anual es:  8.0\n",
            "El valor promedio del ingreso anual es:  73.78849238171613\n"
          ]
        }
      ]
    },
    {
      "cell_type": "code",
      "metadata": {
        "colab": {
          "base_uri": "https://localhost:8080/"
        },
        "id": "-Hru3HemuX7H",
        "outputId": "71baf308-7c23-45cb-f872-adce0a7f1cb8"
      },
      "source": [
        "sns.distplot(df[\"Income\"])"
      ],
      "execution_count": null,
      "outputs": [
        {
          "output_type": "stream",
          "name": "stderr",
          "text": [
            "/usr/local/lib/python3.7/dist-packages/seaborn/distributions.py:2619: FutureWarning: `distplot` is a deprecated function and will be removed in a future version. Please adapt your code to use either `displot` (a figure-level function with similar flexibility) or `histplot` (an axes-level function for histograms).\n",
            "  warnings.warn(msg, FutureWarning)\n"
          ]
        },
        {
          "output_type": "execute_result",
          "data": {
            "text/plain": [
              "<matplotlib.axes._subplots.AxesSubplot at 0x7f4f27060250>"
            ]
          },
          "metadata": {},
          "execution_count": 24
        },
        {
          "output_type": "display_data",
          "data": {
            "image/png": "[encoded data removed]",
            "text/plain": [
              "<Figure size 432x288 with 1 Axes>"
            ]
          },
          "metadata": {
            "needs_background": "light"
          }
        }
      ]
    },
    {
      "cell_type": "markdown",
      "metadata": {
        "id": "LvAdx3fNv6p9"
      },
      "source": [
        "El ingreso anual se centra cerca de 50k.\n"
      ]
    },
    {
      "cell_type": "markdown",
      "metadata": {
        "id": "UAAbsCZpwA1S"
      },
      "source": [
        "Ahora haremos un tratamiento de los valores nulos de Income:"
      ]
    },
    {
      "cell_type": "code",
      "metadata": {
        "id": "9a_gzEjou79m"
      },
      "source": [
        "df[\"Income\"].fillna(73, inplace = True)\n",
        "df1[\"Income\"].fillna(73, inplace = True)"
      ],
      "execution_count": null,
      "outputs": []
    },
    {
      "cell_type": "code",
      "metadata": {
        "colab": {
          "base_uri": "https://localhost:8080/"
        },
        "id": "FYg_tPCOu95S",
        "outputId": "b78a3260-8c4d-45c4-f27a-52bce2c83451"
      },
      "source": [
        "df[\"Income\"].isnull().any()"
      ],
      "execution_count": null,
      "outputs": [
        {
          "output_type": "execute_result",
          "data": {
            "text/plain": [
              "False"
            ]
          },
          "metadata": {},
          "execution_count": 26
        }
      ]
    },
    {
      "cell_type": "markdown",
      "metadata": {
        "id": "i_5y5wZHyA3o"
      },
      "source": [
        "________________"
      ]
    },
    {
      "cell_type": "markdown",
      "metadata": {
        "id": "0ZOhLBjl_FIk"
      },
      "source": [
        "### 1.5. ZIP code (Variable continua)"
      ]
    },
    {
      "cell_type": "code",
      "metadata": {
        "colab": {
          "base_uri": "https://localhost:8080/"
        },
        "id": "YoL8TFQNyhH6",
        "outputId": "d1b4e496-1576-4539-d81a-b03f3c27cf76"
      },
      "source": [
        "print(\"El codigo postal maximo es: \", df[\"ZIP_Code\"].max())\n",
        "print(\"El codigo postal minimo es\", df[\"ZIP_Code\"].min())\n",
        "print(\"El valor promedio de los codigos postales es: \", df[\"ZIP_Code\"].mean())"
      ],
      "execution_count": null,
      "outputs": [
        {
          "output_type": "stream",
          "name": "stdout",
          "text": [
            "El codigo postal maximo es:  96651\n",
            "El codigo postal minimo es 9307\n",
            "El valor promedio de los codigos postales es:  93152.503\n"
          ]
        }
      ]
    },
    {
      "cell_type": "markdown",
      "metadata": {
        "id": "b8zpascI106f"
      },
      "source": [
        "Al ver el diagrama de correlacion podemos llegar a la conclucion de que la variable ZIP_Code tiene una correlacion de solo 0.00011 con el target, lo mejor sera eliminarlo."
      ]
    },
    {
      "cell_type": "code",
      "metadata": {
        "id": "eYzaba-s2IkO"
      },
      "source": [
        "df1 = df1.drop(['ZIP_Code'], axis=1)"
      ],
      "execution_count": null,
      "outputs": []
    },
    {
      "cell_type": "markdown",
      "metadata": {
        "id": "0KHER3Gv2OSG"
      },
      "source": [
        "_______________"
      ]
    },
    {
      "cell_type": "markdown",
      "metadata": {
        "id": "LOPR9HT2_FQt"
      },
      "source": [
        "### 1.6. Family (Variable discreta)"
      ]
    },
    {
      "cell_type": "code",
      "metadata": {
        "colab": {
          "base_uri": "https://localhost:8080/"
        },
        "id": "JFl1f4PY2sd2",
        "outputId": "3a86b809-5514-4987-d493-c198d182db9b"
      },
      "source": [
        "print(\"El tamaño maximo de la familia es: \", df[\"Family\"].max())\n",
        "print(\"El tamaño minimo de la familia es\", df[\"Family\"].min())\n",
        "print(\"El valor promedio de la familia es: \", df[\"Family\"].mean())"
      ],
      "execution_count": null,
      "outputs": [
        {
          "output_type": "stream",
          "name": "stdout",
          "text": [
            "El tamaño maximo de la familia es:  4\n",
            "El tamaño minimo de la familia es 1\n",
            "El valor promedio de la familia es:  2.3964\n"
          ]
        }
      ]
    },
    {
      "cell_type": "code",
      "metadata": {
        "colab": {
          "base_uri": "https://localhost:8080/"
        },
        "id": "XytkrLdS2fYV",
        "outputId": "1e6fa80d-6c77-42cf-f768-9363be52709c"
      },
      "source": [
        "df[\"Family\"].unique()"
      ],
      "execution_count": null,
      "outputs": [
        {
          "output_type": "execute_result",
          "data": {
            "text/plain": [
              "array([4, 3, 1, 2])"
            ]
          },
          "metadata": {},
          "execution_count": 30
        }
      ]
    },
    {
      "cell_type": "code",
      "metadata": {
        "colab": {
          "base_uri": "https://localhost:8080/"
        },
        "id": "OdMF08p14odM",
        "outputId": "a3faf2a4-3cd0-4d0a-dd53-da53a0815d7f"
      },
      "source": [
        "sns.countplot(\"Family\", hue=\"Target\", data=df)\n",
        "plt.show()"
      ],
      "execution_count": null,
      "outputs": [
        {
          "output_type": "stream",
          "name": "stderr",
          "text": [
            "/usr/local/lib/python3.7/dist-packages/seaborn/_decorators.py:43: FutureWarning: Pass the following variable as a keyword arg: x. From version 0.12, the only valid positional argument will be `data`, and passing other arguments without an explicit keyword will result in an error or misinterpretation.\n",
            "  FutureWarning\n"
          ]
        },
        {
          "output_type": "display_data",
          "data": {
            "image/png": "[encoded data removed]",
            "text/plain": [
              "<Figure size 432x288 with 1 Axes>"
            ]
          },
          "metadata": {
            "needs_background": "light"
          }
        }
      ]
    },
    {
      "cell_type": "markdown",
      "metadata": {
        "id": "fFM_VkNI5Mbq"
      },
      "source": [
        "- En esta grafica podemos observar que es muy parejo la cantidad de personas que acepto el prestamo personal independientemente de la cantidad de la familia, pero en su gran mayoria son muchos los que no aceptaron.\n",
        "\n"
      ]
    },
    {
      "cell_type": "code",
      "metadata": {
        "colab": {
          "base_uri": "https://localhost:8080/"
        },
        "id": "_wT0hyXY3d1Y",
        "outputId": "9c08e9fe-c58e-4e3f-efb2-a91e5f9371ce"
      },
      "source": [
        "pd.crosstab([df[\"Family\"]],[df[\"Target\"]]).style.background_gradient(cmap='summer_r')"
      ],
      "execution_count": null,
      "outputs": [
        {
          "output_type": "execute_result",
          "data": {
            "text/html": [
              "<style  type=\"text/css\" >\n",
              "#T_a3aa9902_56ea_11ec_9d02_0242ac1c0002row0_col0,#T_a3aa9902_56ea_11ec_9d02_0242ac1c0002row3_col1{\n",
              "            background-color:  #008066;\n",
              "            color:  #f1f1f1;\n",
              "        }#T_a3aa9902_56ea_11ec_9d02_0242ac1c0002row0_col1{\n",
              "            background-color:  #f6fa66;\n",
              "            color:  #000000;\n",
              "        }#T_a3aa9902_56ea_11ec_9d02_0242ac1c0002row1_col0{\n",
              "            background-color:  #5bad66;\n",
              "            color:  #000000;\n",
              "        }#T_a3aa9902_56ea_11ec_9d02_0242ac1c0002row1_col1,#T_a3aa9902_56ea_11ec_9d02_0242ac1c0002row2_col0{\n",
              "            background-color:  #ffff66;\n",
              "            color:  #000000;\n",
              "        }#T_a3aa9902_56ea_11ec_9d02_0242ac1c0002row2_col1{\n",
              "            background-color:  #098466;\n",
              "            color:  #f1f1f1;\n",
              "        }#T_a3aa9902_56ea_11ec_9d02_0242ac1c0002row3_col0{\n",
              "            background-color:  #91c866;\n",
              "            color:  #000000;\n",
              "        }</style><table id=\"T_a3aa9902_56ea_11ec_9d02_0242ac1c0002\" class=\"dataframe\"><thead>    <tr>        <th class=\"index_name level0\" >Target</th>        <th class=\"col_heading level0 col0\" >0</th>        <th class=\"col_heading level0 col1\" >1</th>    </tr>    <tr>        <th class=\"index_name level0\" >Family</th>        <th class=\"blank\" ></th>        <th class=\"blank\" ></th>    </tr></thead><tbody>\n",
              "                <tr>\n",
              "                        <th id=\"T_a3aa9902_56ea_11ec_9d02_0242ac1c0002level0_row0\" class=\"row_heading level0 row0\" >1</th>\n",
              "                        <td id=\"T_a3aa9902_56ea_11ec_9d02_0242ac1c0002row0_col0\" class=\"data row0 col0\" >1365</td>\n",
              "                        <td id=\"T_a3aa9902_56ea_11ec_9d02_0242ac1c0002row0_col1\" class=\"data row0 col1\" >107</td>\n",
              "            </tr>\n",
              "            <tr>\n",
              "                        <th id=\"T_a3aa9902_56ea_11ec_9d02_0242ac1c0002level0_row1\" class=\"row_heading level0 row1\" >2</th>\n",
              "                        <td id=\"T_a3aa9902_56ea_11ec_9d02_0242ac1c0002row1_col0\" class=\"data row1 col0\" >1190</td>\n",
              "                        <td id=\"T_a3aa9902_56ea_11ec_9d02_0242ac1c0002row1_col1\" class=\"data row1 col1\" >106</td>\n",
              "            </tr>\n",
              "            <tr>\n",
              "                        <th id=\"T_a3aa9902_56ea_11ec_9d02_0242ac1c0002level0_row2\" class=\"row_heading level0 row2\" >3</th>\n",
              "                        <td id=\"T_a3aa9902_56ea_11ec_9d02_0242ac1c0002row2_col0\" class=\"data row2 col0\" >877</td>\n",
              "                        <td id=\"T_a3aa9902_56ea_11ec_9d02_0242ac1c0002row2_col1\" class=\"data row2 col1\" >133</td>\n",
              "            </tr>\n",
              "            <tr>\n",
              "                        <th id=\"T_a3aa9902_56ea_11ec_9d02_0242ac1c0002level0_row3\" class=\"row_heading level0 row3\" >4</th>\n",
              "                        <td id=\"T_a3aa9902_56ea_11ec_9d02_0242ac1c0002row3_col0\" class=\"data row3 col0\" >1088</td>\n",
              "                        <td id=\"T_a3aa9902_56ea_11ec_9d02_0242ac1c0002row3_col1\" class=\"data row3 col1\" >134</td>\n",
              "            </tr>\n",
              "    </tbody></table>"
            ],
            "text/plain": [
              "<pandas.io.formats.style.Styler at 0x7f4f2aa3b410>"
            ]
          },
          "metadata": {},
          "execution_count": 32
        }
      ]
    },
    {
      "cell_type": "markdown",
      "metadata": {
        "id": "uAAuo_FI5vS2"
      },
      "source": [
        "- Aqui podemos analizar mejor los datos, obserbamos que la familia de 4 personas le gana por 1 a la familia de 3 personas en aceptar el prestamo personal.\n",
        "- Ademas las familias de 1 personas conforman la mayoria de personas que no aceptaron el prestamo personal.\n",
        "______________"
      ]
    },
    {
      "cell_type": "markdown",
      "metadata": {
        "id": "dk3A1K-R_FYx"
      },
      "source": [
        "### 1.7. CCAvg (Variable continua)"
      ]
    },
    {
      "cell_type": "code",
      "metadata": {
        "colab": {
          "base_uri": "https://localhost:8080/"
        },
        "id": "RzIBeI4M9rq4",
        "outputId": "e34beb35-1ba1-4066-a3ec-3dfb08e7dae8"
      },
      "source": [
        "df[\"CCAvg\"].unique()"
      ],
      "execution_count": null,
      "outputs": [
        {
          "output_type": "execute_result",
          "data": {
            "text/plain": [
              "array([ 1.6 ,  1.5 ,  1.  ,  2.7 ,  0.4 ,  0.3 ,  0.6 ,  8.9 ,  2.4 ,\n",
              "        0.1 ,  3.8 ,  2.5 ,  2.  ,  4.7 ,  8.1 ,  0.5 ,  0.9 ,  1.2 ,\n",
              "        0.7 ,  3.9 ,  0.2 ,  2.2 ,  3.3 ,  1.8 ,  2.9 ,  1.4 ,  5.  ,\n",
              "        2.3 ,  1.1 ,  5.7 ,  4.5 ,  2.1 ,  8.  ,  1.7 ,  0.  ,  2.8 ,\n",
              "        3.5 ,  4.  ,  2.6 ,  1.3 ,  5.6 ,  5.2 ,  3.  ,  4.6 ,  3.6 ,\n",
              "        7.2 ,  1.75,  7.4 ,  2.67,  7.5 ,  6.5 ,  7.8 ,  7.9 ,  4.1 ,\n",
              "        1.9 ,  4.3 ,  6.8 ,  5.1 ,  3.1 ,  0.8 ,  3.7 ,  6.2 ,  0.75,\n",
              "        2.33,  4.9 ,  0.67,  3.2 ,  5.5 ,  6.9 ,  4.33,  7.3 ,  4.2 ,\n",
              "        4.4 ,  6.1 ,  6.33,  6.6 ,  5.3 ,  3.4 ,  7.  ,  6.3 ,  8.3 ,\n",
              "        6.  ,  1.67,  8.6 ,  7.6 ,  6.4 , 10.  ,  5.9 ,  5.4 ,  8.8 ,\n",
              "        1.33,  9.  ,  6.7 ,  4.25,  6.67,  5.8 ,  4.8 ,  3.25,  5.67,\n",
              "        8.5 ,  4.75,  4.67,  3.67,  8.2 ,  3.33,  5.33,  9.3 ,  2.75])"
            ]
          },
          "metadata": {},
          "execution_count": 33
        }
      ]
    },
    {
      "cell_type": "code",
      "metadata": {
        "colab": {
          "base_uri": "https://localhost:8080/"
        },
        "id": "mqKNLXCF-Q35",
        "outputId": "ca7b2139-348d-44ba-fd26-ecd60c9f778d"
      },
      "source": [
        "print(\"El maximo promedio mensual es: \", df[\"CCAvg\"].max())\n",
        "print(\"El minimo promedio mensual es\", df[\"CCAvg\"].min())\n",
        "print(\"El valor promedio de los promedios mensuales es: \", df[\"CCAvg\"].mean())"
      ],
      "execution_count": null,
      "outputs": [
        {
          "output_type": "stream",
          "name": "stdout",
          "text": [
            "El maximo promedio mensual es:  10.0\n",
            "El minimo promedio mensual es 0.0\n",
            "El valor promedio de los promedios mensuales es:  1.9379380000000053\n"
          ]
        }
      ]
    },
    {
      "cell_type": "code",
      "metadata": {
        "colab": {
          "base_uri": "https://localhost:8080/"
        },
        "id": "cUapnLD8-2mf",
        "outputId": "a47fc122-b5ee-46d4-d7cf-55c8e9d158eb"
      },
      "source": [
        "sns.distplot(df[\"CCAvg\"])"
      ],
      "execution_count": null,
      "outputs": [
        {
          "output_type": "stream",
          "name": "stderr",
          "text": [
            "/usr/local/lib/python3.7/dist-packages/seaborn/distributions.py:2619: FutureWarning: `distplot` is a deprecated function and will be removed in a future version. Please adapt your code to use either `displot` (a figure-level function with similar flexibility) or `histplot` (an axes-level function for histograms).\n",
            "  warnings.warn(msg, FutureWarning)\n"
          ]
        },
        {
          "output_type": "execute_result",
          "data": {
            "text/plain": [
              "<matplotlib.axes._subplots.AxesSubplot at 0x7f4f26f3ca50>"
            ]
          },
          "metadata": {},
          "execution_count": 35
        },
        {
          "output_type": "display_data",
          "data": {
            "image/png": "[encoded data removed]",
            "text/plain": [
              "<Figure size 432x288 with 1 Axes>"
            ]
          },
          "metadata": {
            "needs_background": "light"
          }
        }
      ]
    },
    {
      "cell_type": "markdown",
      "metadata": {
        "id": "yK8820rQ_Gmq"
      },
      "source": [
        "Observamos que el promedio mensual se centra entre 0 y 1"
      ]
    },
    {
      "cell_type": "markdown",
      "metadata": {
        "id": "8Q7ctkMa_VsU"
      },
      "source": [
        "### 1.8. Education (Variable ordinal)"
      ]
    },
    {
      "cell_type": "code",
      "metadata": {
        "colab": {
          "base_uri": "https://localhost:8080/"
        },
        "id": "BDSzD68IQ3TD",
        "outputId": "369816a7-2acd-4fbd-e3b1-4557d5902dd6"
      },
      "source": [
        "print(\"El grado maximo es: \", df[\"Education\"].max())\n",
        "print(\"El grado minimo es\", df[\"Education\"].min())"
      ],
      "execution_count": null,
      "outputs": [
        {
          "output_type": "stream",
          "name": "stdout",
          "text": [
            "El grado maximo es:  3\n",
            "El grado minimo es 1\n"
          ]
        }
      ]
    },
    {
      "cell_type": "code",
      "metadata": {
        "colab": {
          "base_uri": "https://localhost:8080/"
        },
        "id": "I2EgT4ttSQt6",
        "outputId": "6fab97f6-2dd9-4915-9424-cba1f772a055"
      },
      "source": [
        "df[\"Education\"].unique()"
      ],
      "execution_count": null,
      "outputs": [
        {
          "output_type": "execute_result",
          "data": {
            "text/plain": [
              "array([1, 2, 3])"
            ]
          },
          "metadata": {},
          "execution_count": 37
        }
      ]
    },
    {
      "cell_type": "code",
      "metadata": {
        "colab": {
          "base_uri": "https://localhost:8080/"
        },
        "id": "V6tMJBNkS-Wk",
        "outputId": "4406aab8-fd20-4d38-ea69-01db143063b0"
      },
      "source": [
        "pd.crosstab([df[\"Education\"]],[df[\"Target\"]]).style.background_gradient(cmap='summer_r')"
      ],
      "execution_count": null,
      "outputs": [
        {
          "output_type": "execute_result",
          "data": {
            "text/html": [
              "<style  type=\"text/css\" >\n",
              "#T_a3faee0c_56ea_11ec_9d02_0242ac1c0002row0_col0,#T_a3faee0c_56ea_11ec_9d02_0242ac1c0002row2_col1{\n",
              "            background-color:  #008066;\n",
              "            color:  #f1f1f1;\n",
              "        }#T_a3faee0c_56ea_11ec_9d02_0242ac1c0002row0_col1,#T_a3faee0c_56ea_11ec_9d02_0242ac1c0002row1_col0{\n",
              "            background-color:  #ffff66;\n",
              "            color:  #000000;\n",
              "        }#T_a3faee0c_56ea_11ec_9d02_0242ac1c0002row1_col1{\n",
              "            background-color:  #349a66;\n",
              "            color:  #000000;\n",
              "        }#T_a3faee0c_56ea_11ec_9d02_0242ac1c0002row2_col0{\n",
              "            background-color:  #e7f366;\n",
              "            color:  #000000;\n",
              "        }</style><table id=\"T_a3faee0c_56ea_11ec_9d02_0242ac1c0002\" class=\"dataframe\"><thead>    <tr>        <th class=\"index_name level0\" >Target</th>        <th class=\"col_heading level0 col0\" >0</th>        <th class=\"col_heading level0 col1\" >1</th>    </tr>    <tr>        <th class=\"index_name level0\" >Education</th>        <th class=\"blank\" ></th>        <th class=\"blank\" ></th>    </tr></thead><tbody>\n",
              "                <tr>\n",
              "                        <th id=\"T_a3faee0c_56ea_11ec_9d02_0242ac1c0002level0_row0\" class=\"row_heading level0 row0\" >1</th>\n",
              "                        <td id=\"T_a3faee0c_56ea_11ec_9d02_0242ac1c0002row0_col0\" class=\"data row0 col0\" >2003</td>\n",
              "                        <td id=\"T_a3faee0c_56ea_11ec_9d02_0242ac1c0002row0_col1\" class=\"data row0 col1\" >93</td>\n",
              "            </tr>\n",
              "            <tr>\n",
              "                        <th id=\"T_a3faee0c_56ea_11ec_9d02_0242ac1c0002level0_row1\" class=\"row_heading level0 row1\" >2</th>\n",
              "                        <td id=\"T_a3faee0c_56ea_11ec_9d02_0242ac1c0002row1_col0\" class=\"data row1 col0\" >1221</td>\n",
              "                        <td id=\"T_a3faee0c_56ea_11ec_9d02_0242ac1c0002row1_col1\" class=\"data row1 col1\" >182</td>\n",
              "            </tr>\n",
              "            <tr>\n",
              "                        <th id=\"T_a3faee0c_56ea_11ec_9d02_0242ac1c0002level0_row2\" class=\"row_heading level0 row2\" >3</th>\n",
              "                        <td id=\"T_a3faee0c_56ea_11ec_9d02_0242ac1c0002row2_col0\" class=\"data row2 col0\" >1296</td>\n",
              "                        <td id=\"T_a3faee0c_56ea_11ec_9d02_0242ac1c0002row2_col1\" class=\"data row2 col1\" >205</td>\n",
              "            </tr>\n",
              "    </tbody></table>"
            ],
            "text/plain": [
              "<pandas.io.formats.style.Styler at 0x7f4f26f3c790>"
            ]
          },
          "metadata": {},
          "execution_count": 38
        }
      ]
    },
    {
      "cell_type": "code",
      "metadata": {
        "colab": {
          "base_uri": "https://localhost:8080/"
        },
        "id": "eeauyM8TTWvu",
        "outputId": "89f78301-78f6-4436-d131-ec7954828282"
      },
      "source": [
        "g = sns.factorplot(x=\"Education\",y=\"Target\",data=df,kind=\"bar\", size = 8 )\n",
        "plt.show()"
      ],
      "execution_count": null,
      "outputs": [
        {
          "output_type": "stream",
          "name": "stderr",
          "text": [
            "/usr/local/lib/python3.7/dist-packages/seaborn/categorical.py:3717: UserWarning: The `factorplot` function has been renamed to `catplot`. The original name will be removed in a future release. Please update your code. Note that the default `kind` in `factorplot` (`'point'`) has changed `'strip'` in `catplot`.\n",
            "  warnings.warn(msg)\n",
            "/usr/local/lib/python3.7/dist-packages/seaborn/categorical.py:3723: UserWarning: The `size` parameter has been renamed to `height`; please update your code.\n",
            "  warnings.warn(msg, UserWarning)\n"
          ]
        },
        {
          "output_type": "display_data",
          "data": {
            "image/png": "[encoded data removed]",
            "text/plain": [
              "<Figure size 576x576 with 1 Axes>"
            ]
          },
          "metadata": {
            "needs_background": "light"
          }
        }
      ]
    },
    {
      "cell_type": "markdown",
      "metadata": {
        "id": "Irk2g6D9Uxsn"
      },
      "source": [
        "- La mayor cantidad de personas solo tienen secuntadaria completa y ademas son las que no aceptaron el prestamo personal\n",
        "- La mayoria de personas que aceptaron el prestamo personal tienen educacion avanzada.\n",
        "____________"
      ]
    },
    {
      "cell_type": "markdown",
      "metadata": {
        "id": "LsVi2V41_Vxq"
      },
      "source": [
        "### 1.9. Mortgage (Variable continua)"
      ]
    },
    {
      "cell_type": "code",
      "metadata": {
        "colab": {
          "base_uri": "https://localhost:8080/"
        },
        "id": "gS7uJY8YWGfR",
        "outputId": "a392332d-f57c-4511-b327-05c9609451d6"
      },
      "source": [
        "print(\"El maximo valor de la hipoteca de la casa es: \", df[\"Mortgage\"].max())\n",
        "print(\"El minimo Valor de la hipoteca de la casa es\", df[\"Mortgage\"].min())\n",
        "print(\"El promedio del Valor de la hipoteca de la casa es: \", df[\"Mortgage\"].mean())"
      ],
      "execution_count": null,
      "outputs": [
        {
          "output_type": "stream",
          "name": "stdout",
          "text": [
            "El maximo valor de la hipoteca de la casa es:  635\n",
            "El minimo Valor de la hipoteca de la casa es 0\n",
            "El promedio del Valor de la hipoteca de la casa es:  56.4988\n"
          ]
        }
      ]
    },
    {
      "cell_type": "code",
      "metadata": {
        "colab": {
          "base_uri": "https://localhost:8080/"
        },
        "id": "9K16epb6Z0Ux",
        "outputId": "85ab944e-b33b-4a95-bfcf-8c8b04026696"
      },
      "source": [
        "sns.violinplot(\"Education\",\"Mortgage\", hue=\"Target\", data=df, split=True)\n",
        "plt.show()"
      ],
      "execution_count": null,
      "outputs": [
        {
          "output_type": "stream",
          "name": "stderr",
          "text": [
            "/usr/local/lib/python3.7/dist-packages/seaborn/_decorators.py:43: FutureWarning: Pass the following variables as keyword args: x, y. From version 0.12, the only valid positional argument will be `data`, and passing other arguments without an explicit keyword will result in an error or misinterpretation.\n",
            "  FutureWarning\n"
          ]
        },
        {
          "output_type": "display_data",
          "data": {
            "image/png": "[encoded data removed]",
            "text/plain": [
              "<Figure size 432x288 with 1 Axes>"
            ]
          },
          "metadata": {
            "needs_background": "light"
          }
        }
      ]
    },
    {
      "cell_type": "code",
      "metadata": {
        "colab": {
          "base_uri": "https://localhost:8080/"
        },
        "id": "3pZwnJ11YF_F",
        "outputId": "a4f4ce40-4cec-41c8-b7c7-42aae87f664c"
      },
      "source": [
        "sns.distplot(df[\"Mortgage\"])"
      ],
      "execution_count": null,
      "outputs": [
        {
          "output_type": "stream",
          "name": "stderr",
          "text": [
            "/usr/local/lib/python3.7/dist-packages/seaborn/distributions.py:2619: FutureWarning: `distplot` is a deprecated function and will be removed in a future version. Please adapt your code to use either `displot` (a figure-level function with similar flexibility) or `histplot` (an axes-level function for histograms).\n",
            "  warnings.warn(msg, FutureWarning)\n"
          ]
        },
        {
          "output_type": "execute_result",
          "data": {
            "text/plain": [
              "<matplotlib.axes._subplots.AxesSubplot at 0x7f4f271772d0>"
            ]
          },
          "metadata": {},
          "execution_count": 42
        },
        {
          "output_type": "display_data",
          "data": {
            "image/png": "[encoded data removed]",
            "text/plain": [
              "<Figure size 432x288 with 1 Axes>"
            ]
          },
          "metadata": {
            "needs_background": "light"
          }
        }
      ]
    },
    {
      "cell_type": "markdown",
      "metadata": {
        "id": "YnSJLrptaMAp"
      },
      "source": [
        "- Podemos observar que en su gran mayoria los datos se centran en personas que no tienen hipotecada sus casas.\n",
        "- Asi mismo esas personas no aceptaron el prestamo personal.\n",
        "_____________"
      ]
    },
    {
      "cell_type": "markdown",
      "metadata": {
        "id": "1NRx3HlI_V12"
      },
      "source": [
        "### 1.10. Securities_Account (Variable discreta)"
      ]
    },
    {
      "cell_type": "code",
      "metadata": {
        "colab": {
          "base_uri": "https://localhost:8080/"
        },
        "id": "pFPN-1JobAvS",
        "outputId": "714c61b2-536a-4630-aa19-ce49df61ed53"
      },
      "source": [
        "df[\"Securities_Account\"].unique()"
      ],
      "execution_count": null,
      "outputs": [
        {
          "output_type": "execute_result",
          "data": {
            "text/plain": [
              "array([1, 0])"
            ]
          },
          "metadata": {},
          "execution_count": 43
        }
      ]
    },
    {
      "cell_type": "code",
      "metadata": {
        "colab": {
          "base_uri": "https://localhost:8080/"
        },
        "id": "CEcZwaafc1gn",
        "outputId": "0966d03b-3fa5-4036-df6f-a05119e287d4"
      },
      "source": [
        "pd.crosstab([df[\"Securities_Account\"]],[df[\"Target\"]]).style.background_gradient(cmap='summer_r')"
      ],
      "execution_count": null,
      "outputs": [
        {
          "output_type": "execute_result",
          "data": {
            "text/html": [
              "<style  type=\"text/css\" >\n",
              "#T_a4cf13ee_56ea_11ec_9d02_0242ac1c0002row0_col0,#T_a4cf13ee_56ea_11ec_9d02_0242ac1c0002row0_col1{\n",
              "            background-color:  #008066;\n",
              "            color:  #f1f1f1;\n",
              "        }#T_a4cf13ee_56ea_11ec_9d02_0242ac1c0002row1_col0,#T_a4cf13ee_56ea_11ec_9d02_0242ac1c0002row1_col1{\n",
              "            background-color:  #ffff66;\n",
              "            color:  #000000;\n",
              "        }</style><table id=\"T_a4cf13ee_56ea_11ec_9d02_0242ac1c0002\" class=\"dataframe\"><thead>    <tr>        <th class=\"index_name level0\" >Target</th>        <th class=\"col_heading level0 col0\" >0</th>        <th class=\"col_heading level0 col1\" >1</th>    </tr>    <tr>        <th class=\"index_name level0\" >Securities_Account</th>        <th class=\"blank\" ></th>        <th class=\"blank\" ></th>    </tr></thead><tbody>\n",
              "                <tr>\n",
              "                        <th id=\"T_a4cf13ee_56ea_11ec_9d02_0242ac1c0002level0_row0\" class=\"row_heading level0 row0\" >0</th>\n",
              "                        <td id=\"T_a4cf13ee_56ea_11ec_9d02_0242ac1c0002row0_col0\" class=\"data row0 col0\" >4058</td>\n",
              "                        <td id=\"T_a4cf13ee_56ea_11ec_9d02_0242ac1c0002row0_col1\" class=\"data row0 col1\" >420</td>\n",
              "            </tr>\n",
              "            <tr>\n",
              "                        <th id=\"T_a4cf13ee_56ea_11ec_9d02_0242ac1c0002level0_row1\" class=\"row_heading level0 row1\" >1</th>\n",
              "                        <td id=\"T_a4cf13ee_56ea_11ec_9d02_0242ac1c0002row1_col0\" class=\"data row1 col0\" >462</td>\n",
              "                        <td id=\"T_a4cf13ee_56ea_11ec_9d02_0242ac1c0002row1_col1\" class=\"data row1 col1\" >60</td>\n",
              "            </tr>\n",
              "    </tbody></table>"
            ],
            "text/plain": [
              "<pandas.io.formats.style.Styler at 0x7f4f26823050>"
            ]
          },
          "metadata": {},
          "execution_count": 44
        }
      ]
    },
    {
      "cell_type": "markdown",
      "metadata": {
        "id": "YM27x-l-dDzN"
      },
      "source": [
        "- En su mayoria no se tiene una cuenta de valores."
      ]
    },
    {
      "cell_type": "markdown",
      "metadata": {
        "id": "4bY42FEldqBK"
      },
      "source": [
        "____________"
      ]
    },
    {
      "cell_type": "markdown",
      "metadata": {
        "id": "oFW86CYK_WTI"
      },
      "source": [
        "### 1.11. CD_Account (Variable discreta)"
      ]
    },
    {
      "cell_type": "code",
      "metadata": {
        "colab": {
          "base_uri": "https://localhost:8080/"
        },
        "id": "XSsvzIPAfhdp",
        "outputId": "2265c7b7-fe8e-4a12-a105-a6271dc44584"
      },
      "source": [
        "df[\"CD_Account\"].unique()"
      ],
      "execution_count": null,
      "outputs": [
        {
          "output_type": "execute_result",
          "data": {
            "text/plain": [
              "array([0, 1])"
            ]
          },
          "metadata": {},
          "execution_count": 45
        }
      ]
    },
    {
      "cell_type": "code",
      "metadata": {
        "colab": {
          "base_uri": "https://localhost:8080/"
        },
        "id": "TbrHw87PgnOs",
        "outputId": "41599f3c-11c7-4a12-9410-73da32cc5ee8"
      },
      "source": [
        "pd.crosstab([df[\"CD_Account\"]],[df[\"Target\"]]).style.background_gradient(cmap='summer_r')"
      ],
      "execution_count": null,
      "outputs": [
        {
          "output_type": "execute_result",
          "data": {
            "text/html": [
              "<style  type=\"text/css\" >\n",
              "#T_a4d6efe2_56ea_11ec_9d02_0242ac1c0002row0_col0,#T_a4d6efe2_56ea_11ec_9d02_0242ac1c0002row0_col1{\n",
              "            background-color:  #008066;\n",
              "            color:  #f1f1f1;\n",
              "        }#T_a4d6efe2_56ea_11ec_9d02_0242ac1c0002row1_col0,#T_a4d6efe2_56ea_11ec_9d02_0242ac1c0002row1_col1{\n",
              "            background-color:  #ffff66;\n",
              "            color:  #000000;\n",
              "        }</style><table id=\"T_a4d6efe2_56ea_11ec_9d02_0242ac1c0002\" class=\"dataframe\"><thead>    <tr>        <th class=\"index_name level0\" >Target</th>        <th class=\"col_heading level0 col0\" >0</th>        <th class=\"col_heading level0 col1\" >1</th>    </tr>    <tr>        <th class=\"index_name level0\" >CD_Account</th>        <th class=\"blank\" ></th>        <th class=\"blank\" ></th>    </tr></thead><tbody>\n",
              "                <tr>\n",
              "                        <th id=\"T_a4d6efe2_56ea_11ec_9d02_0242ac1c0002level0_row0\" class=\"row_heading level0 row0\" >0</th>\n",
              "                        <td id=\"T_a4d6efe2_56ea_11ec_9d02_0242ac1c0002row0_col0\" class=\"data row0 col0\" >4358</td>\n",
              "                        <td id=\"T_a4d6efe2_56ea_11ec_9d02_0242ac1c0002row0_col1\" class=\"data row0 col1\" >340</td>\n",
              "            </tr>\n",
              "            <tr>\n",
              "                        <th id=\"T_a4d6efe2_56ea_11ec_9d02_0242ac1c0002level0_row1\" class=\"row_heading level0 row1\" >1</th>\n",
              "                        <td id=\"T_a4d6efe2_56ea_11ec_9d02_0242ac1c0002row1_col0\" class=\"data row1 col0\" >162</td>\n",
              "                        <td id=\"T_a4d6efe2_56ea_11ec_9d02_0242ac1c0002row1_col1\" class=\"data row1 col1\" >140</td>\n",
              "            </tr>\n",
              "    </tbody></table>"
            ],
            "text/plain": [
              "<pandas.io.formats.style.Styler at 0x7f4f334ebcd0>"
            ]
          },
          "metadata": {},
          "execution_count": 46
        }
      ]
    },
    {
      "cell_type": "code",
      "metadata": {
        "colab": {
          "base_uri": "https://localhost:8080/"
        },
        "id": "bgIw9WD6gzRm",
        "outputId": "accb4170-b7a0-44cc-e0c5-580703eaaecf"
      },
      "source": [
        "sns.countplot(\"CD_Account\", hue=\"Target\", data=df)\n",
        "plt.show()"
      ],
      "execution_count": null,
      "outputs": [
        {
          "output_type": "stream",
          "name": "stderr",
          "text": [
            "/usr/local/lib/python3.7/dist-packages/seaborn/_decorators.py:43: FutureWarning: Pass the following variable as a keyword arg: x. From version 0.12, the only valid positional argument will be `data`, and passing other arguments without an explicit keyword will result in an error or misinterpretation.\n",
            "  FutureWarning\n"
          ]
        },
        {
          "output_type": "display_data",
          "data": {
            "image/png": "[encoded data removed]",
            "text/plain": [
              "<Figure size 432x288 with 1 Axes>"
            ]
          },
          "metadata": {
            "needs_background": "light"
          }
        }
      ]
    },
    {
      "cell_type": "markdown",
      "metadata": {
        "id": "l_6otzngmsmK"
      },
      "source": [
        "- La mayoria de personasno cuentan con CD_Account.\n",
        "- Ademas la mayoria de los que aceptaron el prestamo personal no cuentan con CD_account.\n",
        "___________"
      ]
    },
    {
      "cell_type": "markdown",
      "metadata": {
        "id": "I1_HS42c_WWV"
      },
      "source": [
        "### 1.12. Online (Variable discreta)"
      ]
    },
    {
      "cell_type": "code",
      "metadata": {
        "colab": {
          "base_uri": "https://localhost:8080/"
        },
        "id": "1DhUGCw7ogeG",
        "outputId": "4e901d86-0b1b-45c2-c488-f261f39c6fd4"
      },
      "source": [
        "sns.countplot(\"Online\", hue=\"Target\", data=df)\n",
        "plt.show()"
      ],
      "execution_count": null,
      "outputs": [
        {
          "output_type": "stream",
          "name": "stderr",
          "text": [
            "/usr/local/lib/python3.7/dist-packages/seaborn/_decorators.py:43: FutureWarning: Pass the following variable as a keyword arg: x. From version 0.12, the only valid positional argument will be `data`, and passing other arguments without an explicit keyword will result in an error or misinterpretation.\n",
            "  FutureWarning\n"
          ]
        },
        {
          "output_type": "display_data",
          "data": {
            "image/png": "[encoded data removed]",
            "text/plain": [
              "<Figure size 432x288 with 1 Axes>"
            ]
          },
          "metadata": {
            "needs_background": "light"
          }
        }
      ]
    },
    {
      "cell_type": "code",
      "metadata": {
        "colab": {
          "base_uri": "https://localhost:8080/"
        },
        "id": "IQx8Rd1koxDb",
        "outputId": "275183a2-6a3d-404a-9174-a9b0e56c8348"
      },
      "source": [
        "pd.crosstab([df[\"Online\"]],[df[\"Target\"]]).style.background_gradient(cmap='summer_r')"
      ],
      "execution_count": null,
      "outputs": [
        {
          "output_type": "execute_result",
          "data": {
            "text/html": [
              "<style  type=\"text/css\" >\n",
              "#T_a516c1b2_56ea_11ec_9d02_0242ac1c0002row0_col0,#T_a516c1b2_56ea_11ec_9d02_0242ac1c0002row0_col1{\n",
              "            background-color:  #ffff66;\n",
              "            color:  #000000;\n",
              "        }#T_a516c1b2_56ea_11ec_9d02_0242ac1c0002row1_col0,#T_a516c1b2_56ea_11ec_9d02_0242ac1c0002row1_col1{\n",
              "            background-color:  #008066;\n",
              "            color:  #f1f1f1;\n",
              "        }</style><table id=\"T_a516c1b2_56ea_11ec_9d02_0242ac1c0002\" class=\"dataframe\"><thead>    <tr>        <th class=\"index_name level0\" >Target</th>        <th class=\"col_heading level0 col0\" >0</th>        <th class=\"col_heading level0 col1\" >1</th>    </tr>    <tr>        <th class=\"index_name level0\" >Online</th>        <th class=\"blank\" ></th>        <th class=\"blank\" ></th>    </tr></thead><tbody>\n",
              "                <tr>\n",
              "                        <th id=\"T_a516c1b2_56ea_11ec_9d02_0242ac1c0002level0_row0\" class=\"row_heading level0 row0\" >0</th>\n",
              "                        <td id=\"T_a516c1b2_56ea_11ec_9d02_0242ac1c0002row0_col0\" class=\"data row0 col0\" >1827</td>\n",
              "                        <td id=\"T_a516c1b2_56ea_11ec_9d02_0242ac1c0002row0_col1\" class=\"data row0 col1\" >189</td>\n",
              "            </tr>\n",
              "            <tr>\n",
              "                        <th id=\"T_a516c1b2_56ea_11ec_9d02_0242ac1c0002level0_row1\" class=\"row_heading level0 row1\" >1</th>\n",
              "                        <td id=\"T_a516c1b2_56ea_11ec_9d02_0242ac1c0002row1_col0\" class=\"data row1 col0\" >2693</td>\n",
              "                        <td id=\"T_a516c1b2_56ea_11ec_9d02_0242ac1c0002row1_col1\" class=\"data row1 col1\" >291</td>\n",
              "            </tr>\n",
              "    </tbody></table>"
            ],
            "text/plain": [
              "<pandas.io.formats.style.Styler at 0x7f4f27156250>"
            ]
          },
          "metadata": {},
          "execution_count": 49
        }
      ]
    },
    {
      "cell_type": "markdown",
      "metadata": {
        "id": "lG_pXL4ipeZf"
      },
      "source": [
        "- La mayoria de las personas usan servicios bancarios por internet.\n",
        "- A la vez estos de estos 291 aceptaron el prestamo personal.\n",
        "- Sin embargo si analizamos la correlacion,esta es solo de 0.0063 con el target, por lo cual procederemos a eliminarla."
      ]
    },
    {
      "cell_type": "code",
      "metadata": {
        "id": "RrwgXlksqR5n"
      },
      "source": [
        "df1 = df1.drop(['Online'], axis=1)"
      ],
      "execution_count": null,
      "outputs": []
    },
    {
      "cell_type": "markdown",
      "metadata": {
        "id": "l8ct9sVXqURf"
      },
      "source": [
        "___________"
      ]
    },
    {
      "cell_type": "markdown",
      "metadata": {
        "id": "FQuvak5m_1k6"
      },
      "source": [
        "### 1.13. CreditCard (Variable discreta)"
      ]
    },
    {
      "cell_type": "code",
      "metadata": {
        "colab": {
          "base_uri": "https://localhost:8080/"
        },
        "id": "s1tG4dpwqvsA",
        "outputId": "ade15061-fae3-4ef2-b1e6-41cad3b7355c"
      },
      "source": [
        "sns.countplot(\"CreditCard\", hue=\"Target\", data=df)\n",
        "plt.show()"
      ],
      "execution_count": null,
      "outputs": [
        {
          "output_type": "stream",
          "name": "stderr",
          "text": [
            "/usr/local/lib/python3.7/dist-packages/seaborn/_decorators.py:43: FutureWarning: Pass the following variable as a keyword arg: x. From version 0.12, the only valid positional argument will be `data`, and passing other arguments without an explicit keyword will result in an error or misinterpretation.\n",
            "  FutureWarning\n"
          ]
        },
        {
          "output_type": "display_data",
          "data": {
            "image/png": "[encoded data removed]",
            "text/plain": [
              "<Figure size 432x288 with 1 Axes>"
            ]
          },
          "metadata": {
            "needs_background": "light"
          }
        }
      ]
    },
    {
      "cell_type": "code",
      "metadata": {
        "colab": {
          "base_uri": "https://localhost:8080/"
        },
        "id": "R_ZCDB6Qqywq",
        "outputId": "73148829-20d9-47cf-fabe-11be2effd797"
      },
      "source": [
        "pd.crosstab([df[\"CreditCard\"]],[df[\"Target\"]]).style.background_gradient(cmap='summer_r')"
      ],
      "execution_count": null,
      "outputs": [
        {
          "output_type": "execute_result",
          "data": {
            "text/html": [
              "<style  type=\"text/css\" >\n",
              "#T_a53b4690_56ea_11ec_9d02_0242ac1c0002row0_col0,#T_a53b4690_56ea_11ec_9d02_0242ac1c0002row0_col1{\n",
              "            background-color:  #008066;\n",
              "            color:  #f1f1f1;\n",
              "        }#T_a53b4690_56ea_11ec_9d02_0242ac1c0002row1_col0,#T_a53b4690_56ea_11ec_9d02_0242ac1c0002row1_col1{\n",
              "            background-color:  #ffff66;\n",
              "            color:  #000000;\n",
              "        }</style><table id=\"T_a53b4690_56ea_11ec_9d02_0242ac1c0002\" class=\"dataframe\"><thead>    <tr>        <th class=\"index_name level0\" >Target</th>        <th class=\"col_heading level0 col0\" >0</th>        <th class=\"col_heading level0 col1\" >1</th>    </tr>    <tr>        <th class=\"index_name level0\" >CreditCard</th>        <th class=\"blank\" ></th>        <th class=\"blank\" ></th>    </tr></thead><tbody>\n",
              "                <tr>\n",
              "                        <th id=\"T_a53b4690_56ea_11ec_9d02_0242ac1c0002level0_row0\" class=\"row_heading level0 row0\" >0</th>\n",
              "                        <td id=\"T_a53b4690_56ea_11ec_9d02_0242ac1c0002row0_col0\" class=\"data row0 col0\" >3193</td>\n",
              "                        <td id=\"T_a53b4690_56ea_11ec_9d02_0242ac1c0002row0_col1\" class=\"data row0 col1\" >337</td>\n",
              "            </tr>\n",
              "            <tr>\n",
              "                        <th id=\"T_a53b4690_56ea_11ec_9d02_0242ac1c0002level0_row1\" class=\"row_heading level0 row1\" >1</th>\n",
              "                        <td id=\"T_a53b4690_56ea_11ec_9d02_0242ac1c0002row1_col0\" class=\"data row1 col0\" >1327</td>\n",
              "                        <td id=\"T_a53b4690_56ea_11ec_9d02_0242ac1c0002row1_col1\" class=\"data row1 col1\" >143</td>\n",
              "            </tr>\n",
              "    </tbody></table>"
            ],
            "text/plain": [
              "<pandas.io.formats.style.Styler at 0x7f4f26793890>"
            ]
          },
          "metadata": {},
          "execution_count": 52
        }
      ]
    },
    {
      "cell_type": "markdown",
      "metadata": {
        "id": "wiVZMHTUrFMR"
      },
      "source": [
        "- En su mayoria no cuentan con tarjetas de creditos del banco.\n",
        "- Los que aceptaron el prestamo personal son en su mayoria los que cuentan con tarjeta de credito del banco.\n",
        "- Sin embargo, esta variable cuenta con solo 0.0028 de correlacion con el target porq lo que procederemos a eliminarla."
      ]
    },
    {
      "cell_type": "code",
      "metadata": {
        "id": "8V2czuoaq21b"
      },
      "source": [
        "df1 = df1.drop(['CreditCard'], axis=1)"
      ],
      "execution_count": null,
      "outputs": []
    },
    {
      "cell_type": "markdown",
      "metadata": {
        "id": "JA3HJUDzrg3j"
      },
      "source": [
        "______________"
      ]
    },
    {
      "cell_type": "markdown",
      "metadata": {
        "id": "jCXyI1h5aDRQ"
      },
      "source": [
        "## **2. Feature engineering**"
      ]
    },
    {
      "cell_type": "markdown",
      "metadata": {
        "id": "O6mNT5qKaOcI"
      },
      "source": [
        "### 2.1 Creacion de variables\n"
      ]
    },
    {
      "cell_type": "markdown",
      "metadata": {
        "id": "KYxrYidFvdtQ"
      },
      "source": [
        "#### 2.1.1. Jovenes, Adultos o Mayores"
      ]
    },
    {
      "cell_type": "code",
      "metadata": {
        "id": "JSmHzgsC7O61"
      },
      "source": [
        "df3=df.copy()"
      ],
      "execution_count": null,
      "outputs": []
    },
    {
      "cell_type": "code",
      "metadata": {
        "colab": {
          "base_uri": "https://localhost:8080/"
        },
        "id": "CrbNWq5Dyqxt",
        "outputId": "7d19a9ac-b806-4bd9-c89e-66ca10ab93c5"
      },
      "source": [
        "df3[\"Age\"].unique()"
      ],
      "execution_count": null,
      "outputs": [
        {
          "output_type": "execute_result",
          "data": {
            "text/plain": [
              "array([25., 45., 39., 35., 37., 53., 50., 34., 48., 59., 67., 60., 38.,\n",
              "       42., 46., 55., 56., 57., 29., 44., 36., 43., 40., 30., 31., 32.,\n",
              "       61., 41., 28., 49., 47., 62., 58., 54., 33., 27., 65., 66., 24.,\n",
              "       52., 51., 26., 64., 63., 23.])"
            ]
          },
          "metadata": {},
          "execution_count": 55
        }
      ]
    },
    {
      "cell_type": "code",
      "metadata": {
        "id": "ZoppBkO1tETp"
      },
      "source": [
        "df3.loc[(df3[\"Age\"]>22)&(df3[\"Age\"]<33),'Age']=0  #Jovenes\n",
        "df3.loc[(df3[\"Age\"]>32)&(df3[\"Age\"]<51),'Age']=1  #Adultos\n",
        "df3.loc[(df3[\"Age\"]>50)&(df3[\"Age\"]<68),'Age']=2  #Mayores"
      ],
      "execution_count": null,
      "outputs": []
    },
    {
      "cell_type": "markdown",
      "metadata": {
        "id": "-j19i05rxGS9"
      },
      "source": [
        "#### 2.1.2. Solo o con familia"
      ]
    },
    {
      "cell_type": "code",
      "metadata": {
        "colab": {
          "base_uri": "https://localhost:8080/"
        },
        "id": "bHBHN8Q4y7Fq",
        "outputId": "e13a6aec-a92a-473f-8209-662d5ccdb52f"
      },
      "source": [
        "df3[\"Family\"].unique()"
      ],
      "execution_count": null,
      "outputs": [
        {
          "output_type": "execute_result",
          "data": {
            "text/plain": [
              "array([4, 3, 1, 2])"
            ]
          },
          "metadata": {},
          "execution_count": 57
        }
      ]
    },
    {
      "cell_type": "code",
      "metadata": {
        "id": "j1up-6YMxUQp"
      },
      "source": [
        "df3.loc[(df3[\"Family\"]==1),'Family']=1  #Solo\n",
        "df3.loc[(df3[\"Family\"]>1)&(df3[\"Family\"]<5),'Family']=0  #Con familia"
      ],
      "execution_count": null,
      "outputs": []
    },
    {
      "cell_type": "markdown",
      "metadata": {
        "id": "C4debb3jzDjz"
      },
      "source": [
        "#### 2.1.3. Hipotecaron o no hipotecaron"
      ]
    },
    {
      "cell_type": "code",
      "metadata": {
        "colab": {
          "base_uri": "https://localhost:8080/"
        },
        "id": "4XV946ZRzaeL",
        "outputId": "bbb883f2-f23f-48b8-f75e-640f0c868f06"
      },
      "source": [
        "df3[\"Mortgage\"].unique()"
      ],
      "execution_count": null,
      "outputs": [
        {
          "output_type": "execute_result",
          "data": {
            "text/plain": [
              "array([  0, 155, 104, 134, 111, 260, 163, 159,  97, 122, 193, 198, 285,\n",
              "       412, 153, 211, 207, 240, 455, 112, 336, 132, 118, 174, 126, 236,\n",
              "       166, 136, 309, 103, 366, 101, 251, 276, 161, 149, 188, 116, 135,\n",
              "       244, 164,  81, 315, 140,  95,  89,  90, 105, 100, 282, 209, 249,\n",
              "        91,  98, 145, 150, 169, 280,  99,  78, 264, 113, 117, 325, 121,\n",
              "       138,  77, 158, 109, 131, 391,  88, 129, 196, 617, 123, 167, 190,\n",
              "       248,  82, 402, 360, 392, 185, 419, 270, 148, 466, 175, 147, 220,\n",
              "       133, 182, 290, 125, 124, 224, 141, 119, 139, 115, 458, 172, 156,\n",
              "       547, 470, 304, 221, 108, 179, 271, 378, 176,  76, 314,  87, 203,\n",
              "       180, 230, 137, 152, 485, 300, 272, 144,  94, 208, 275,  83, 218,\n",
              "       327, 322, 205, 227, 239,  85, 160, 364, 449,  75, 107,  92, 187,\n",
              "       355, 106, 587, 214, 307, 263, 310, 127, 252, 170, 265, 177, 305,\n",
              "       372,  79, 301, 232, 289, 212, 250,  84, 130, 303, 256, 259, 204,\n",
              "       524, 157, 231, 287, 247, 333, 229, 357, 361, 294,  86, 329, 142,\n",
              "       184, 442, 233, 215, 394, 475, 197, 228, 297, 128, 241, 437, 178,\n",
              "       428, 162, 234, 257, 219, 337, 382, 397, 181, 120, 380, 200, 433,\n",
              "       222, 483, 154, 171, 146, 110, 201, 277, 268, 237, 102,  93, 354,\n",
              "       195, 194, 238, 226, 318, 342, 266, 114, 245, 341, 421, 359, 565,\n",
              "       319, 151, 267, 601, 567, 352, 284, 199,  80, 334, 389, 186, 246,\n",
              "       589, 242, 143, 323, 535, 293, 398, 343, 255, 311, 446, 223, 262,\n",
              "       422, 192, 217, 168, 299, 505, 400, 165, 183, 326, 298, 569, 374,\n",
              "       216, 191, 408, 406, 452, 432, 312, 477, 396, 582, 358, 213, 467,\n",
              "       331, 295, 235, 635, 385, 328, 522, 496, 415, 461, 344, 206, 368,\n",
              "       321, 296, 373, 292, 383, 427, 189, 202,  96, 429, 431, 286, 508,\n",
              "       210, 416, 553, 403, 225, 500, 313, 410, 273, 381, 330, 345, 253,\n",
              "       258, 351, 353, 308, 278, 464, 509, 243, 173, 481, 281, 306, 577,\n",
              "       302, 405, 571, 581, 550, 283, 612, 590, 541])"
            ]
          },
          "metadata": {},
          "execution_count": 59
        }
      ]
    },
    {
      "cell_type": "code",
      "metadata": {
        "id": "2kQgXqlBzZ0A"
      },
      "source": [
        "df3.loc[(df3[\"Mortgage\"]!=0),'Mortgage']=1 #Hipotecaron"
      ],
      "execution_count": null,
      "outputs": []
    },
    {
      "cell_type": "code",
      "metadata": {
        "colab": {
          "base_uri": "https://localhost:8080/"
        },
        "id": "x3MNdZ7Iz198",
        "outputId": "2ec62a07-4406-45b7-a872-597a38374e10"
      },
      "source": [
        "df3[\"Mortgage\"].unique()"
      ],
      "execution_count": null,
      "outputs": [
        {
          "output_type": "execute_result",
          "data": {
            "text/plain": [
              "array([0, 1])"
            ]
          },
          "metadata": {},
          "execution_count": 61
        }
      ]
    },
    {
      "cell_type": "markdown",
      "metadata": {
        "id": "MgqqHJTw1pbS"
      },
      "source": [
        "#### Conclusion"
      ]
    },
    {
      "cell_type": "code",
      "metadata": {
        "colab": {
          "base_uri": "https://localhost:8080/"
        },
        "id": "mn7mCw_r2B6L",
        "outputId": "e673f8b4-85b1-4cd6-8af7-9796bab06500"
      },
      "source": [
        "sns.heatmap(df3.corr(),annot=True,cbar= True,cmap='GnBu',linewidths=0.2,annot_kws={'size':10})\n",
        "fig=plt.gcf()\n",
        "fig.set_size_inches(12,10)\n",
        "plt.xticks(fontsize=10)\n",
        "plt.yticks(fontsize=10)\n",
        "plt.show()"
      ],
      "execution_count": null,
      "outputs": [
        {
          "output_type": "display_data",
          "data": {
            "image/png": "[encoded data removed]",
            "text/plain": [
              "<Figure size 864x720 with 2 Axes>"
            ]
          },
          "metadata": {
            "needs_background": "light"
          }
        }
      ]
    },
    {
      "cell_type": "markdown",
      "metadata": {
        "id": "bNsIi8hJ1wUb"
      },
      "source": [
        "Ninguna de las variables creadas hicieron que la correlacion mejorara significativamente. En el caso de la hipoteca hizo que nuestra correlacion disminuyera, por lo tanto no se tendra en cuenta estas variables en nuestra data.\n",
        "_____________"
      ]
    },
    {
      "cell_type": "markdown",
      "metadata": {
        "id": "4RDiV-VK1iC3"
      },
      "source": [
        "### 2.2. Encoding"
      ]
    },
    {
      "cell_type": "code",
      "metadata": {
        "colab": {
          "base_uri": "https://localhost:8080/"
        },
        "id": "ixrhpl8aCYIX",
        "outputId": "c157ea24-27b2-4cac-af18-544a2b5b9067"
      },
      "source": [
        "df.dtypes"
      ],
      "execution_count": null,
      "outputs": [
        {
          "output_type": "execute_result",
          "data": {
            "text/plain": [
              "ID                      int64\n",
              "Age                   float64\n",
              "Experience              int64\n",
              "Income                float64\n",
              "ZIP_Code                int64\n",
              "Family                  int64\n",
              "CCAvg                 float64\n",
              "Education               int64\n",
              "Mortgage                int64\n",
              "Securities_Account      int64\n",
              "CD_Account              int64\n",
              "Online                  int64\n",
              "CreditCard              int64\n",
              "Target                  int64\n",
              "dtype: object"
            ]
          },
          "metadata": {},
          "execution_count": 63
        }
      ]
    },
    {
      "cell_type": "markdown",
      "metadata": {
        "id": "OkgXeWeHE2qx"
      },
      "source": [
        "- No necesitamos hacer nada ya que todas nuestras variables son numericas."
      ]
    },
    {
      "cell_type": "markdown",
      "metadata": {
        "id": "nUD9E2TUalUI"
      },
      "source": [
        "### 2.3. Seleccion de variables\n"
      ]
    },
    {
      "cell_type": "markdown",
      "metadata": {
        "id": "COakkKwCGLbi"
      },
      "source": [
        "Tenemos a df1 que en un principio era similar a nuestra data original df, pero a este(df1) se le fueron eliminando las variables con una correlacion cercana a 0."
      ]
    },
    {
      "cell_type": "markdown",
      "metadata": {
        "id": "vENzO4pJMW3h"
      },
      "source": [
        "#### 2.3.1. Correlacion"
      ]
    },
    {
      "cell_type": "markdown",
      "metadata": {
        "id": "D821ROCaHZ9P"
      },
      "source": [
        "**Esta es la correlacion sin eliminar las variables**"
      ]
    },
    {
      "cell_type": "code",
      "metadata": {
        "colab": {
          "base_uri": "https://localhost:8080/"
        },
        "id": "uH8Tiq6XmqjS",
        "outputId": "4991c766-b27f-46d2-ef17-5deabfc111ef"
      },
      "source": [
        "sns.heatmap(df.corr(),annot=True,cbar= True,cmap='GnBu',linewidths=0.2,annot_kws={'size':10})\n",
        "fig=plt.gcf()\n",
        "fig.set_size_inches(12,10)\n",
        "plt.xticks(fontsize=10)\n",
        "plt.yticks(fontsize=10)\n",
        "plt.show()"
      ],
      "execution_count": null,
      "outputs": [
        {
          "output_type": "display_data",
          "data": {
            "image/png": "[encoded data removed]",
            "text/plain": [
              "<Figure size 864x720 with 2 Axes>"
            ]
          },
          "metadata": {
            "needs_background": "light"
          }
        }
      ]
    },
    {
      "cell_type": "code",
      "metadata": {
        "id": "xlvwIZNsGoSO"
      },
      "source": [
        "#Procederemos a igualar nuestra data original con la data simplificada\n",
        "df=df1.copy()"
      ],
      "execution_count": null,
      "outputs": []
    },
    {
      "cell_type": "markdown",
      "metadata": {
        "id": "ahLrMnBXHjZZ"
      },
      "source": [
        "**Esta es la grafica despues de haber eliminado las variables con una muy baja correlacion**"
      ]
    },
    {
      "cell_type": "code",
      "metadata": {
        "colab": {
          "base_uri": "https://localhost:8080/"
        },
        "id": "yA0FwQVZFxca",
        "outputId": "3af0295b-e2dc-4b85-a1f1-56607b95ac6d"
      },
      "source": [
        "sns.heatmap(df.corr(),annot=True,cbar= True,cmap='GnBu',linewidths=0.2,annot_kws={'size':8})\n",
        "fig=plt.gcf()\n",
        "fig.set_size_inches(12,10)\n",
        "plt.xticks(fontsize=10)\n",
        "plt.yticks(fontsize=10)\n",
        "plt.show()"
      ],
      "execution_count": null,
      "outputs": [
        {
          "output_type": "display_data",
          "data": {
            "image/png": "[encoded data removed]",
            "text/plain": [
              "<Figure size 864x720 with 2 Axes>"
            ]
          },
          "metadata": {
            "needs_background": "light"
          }
        }
      ]
    },
    {
      "cell_type": "markdown",
      "metadata": {
        "id": "u4PfpguuAbPM"
      },
      "source": [
        "- En nuestro diagrama de correlacion podemos ver que Experience tiene una correlacion demasiado baja, asi como securities account y Family."
      ]
    },
    {
      "cell_type": "code",
      "metadata": {
        "id": "fjzHBhzbaNQ1"
      },
      "source": [
        "X = df.drop(['Target'],axis=1)\n",
        "y = df['Target']"
      ],
      "execution_count": null,
      "outputs": []
    },
    {
      "cell_type": "code",
      "metadata": {
        "colab": {
          "base_uri": "https://localhost:8080/"
        },
        "id": "3bNIeXGHIQaL",
        "outputId": "c1a34b0a-8665-4ca8-9f72-5176af5cc5c3"
      },
      "source": [
        "from sklearn.feature_selection import mutual_info_classif\n",
        "importance = mutual_info_classif(X,y)\n",
        "feat_importance = pd.Series(importance, X.columns)\n",
        "feat_importance.plot(kind='barh', color='teal')"
      ],
      "execution_count": null,
      "outputs": [
        {
          "output_type": "execute_result",
          "data": {
            "text/plain": [
              "<matplotlib.axes._subplots.AxesSubplot at 0x7f4f2aa9b750>"
            ]
          },
          "metadata": {},
          "execution_count": 68
        },
        {
          "output_type": "display_data",
          "data": {
            "image/png": "[encoded data removed]",
            "text/plain": [
              "<Figure size 432x288 with 1 Axes>"
            ]
          },
          "metadata": {
            "needs_background": "light"
          }
        }
      ]
    },
    {
      "cell_type": "markdown",
      "metadata": {
        "id": "FCcOfZWhAsjv"
      },
      "source": [
        "- Segun inf. values las variables debiles son: Securities_Account y Family."
      ]
    },
    {
      "cell_type": "code",
      "metadata": {
        "colab": {
          "base_uri": "https://localhost:8080/"
        },
        "id": "V0_xxHme_IAa",
        "outputId": "feec0d5c-c553-4eac-945b-8fc64d897eef"
      },
      "source": [
        "from sklearn.ensemble import RandomForestClassifier\n",
        "\n",
        "model = RandomForestClassifier(n_estimators=300)\n",
        "model.fit(X,y)\n",
        "\n",
        "importances = model.feature_importances_\n",
        "\n",
        "tree_df = pd.DataFrame({\"Variables\": pd.DataFrame(X).columns, \n",
        "                        \"Importancia\": importances})\n",
        "tree_df.set_index(\"Importancia\")\n",
        "\n",
        "tree_df = tree_df.sort_values(\"Importancia\")\n",
        "\n",
        "tree_df.plot.bar(color = \"teal\")"
      ],
      "execution_count": null,
      "outputs": [
        {
          "output_type": "execute_result",
          "data": {
            "text/plain": [
              "<matplotlib.axes._subplots.AxesSubplot at 0x7f4f1fcb9350>"
            ]
          },
          "metadata": {},
          "execution_count": 69
        },
        {
          "output_type": "display_data",
          "data": {
            "image/png": "[encoded data removed]",
            "text/plain": [
              "<Figure size 432x288 with 1 Axes>"
            ]
          },
          "metadata": {
            "needs_background": "light"
          }
        }
      ]
    },
    {
      "cell_type": "markdown",
      "metadata": {
        "id": "L04i4ev9Bbbm"
      },
      "source": [
        "- Segun RandomForest nuestras variables débiles es Securities_Account."
      ]
    },
    {
      "cell_type": "markdown",
      "metadata": {
        "id": "G-bYNSp1C1ul"
      },
      "source": [
        "#### 2.3.2. Forward Selection"
      ]
    },
    {
      "cell_type": "code",
      "metadata": {
        "colab": {
          "base_uri": "https://localhost:8080/"
        },
        "id": "YZGqKFubCDVr",
        "outputId": "abc32a40-dfa7-4ebe-a253-e7380a105a30"
      },
      "source": [
        "#'Experience', 'Income', 'Family', 'CCAvg', 'Education', 'Mortgage','Securities_Account', 'CD_Account'\n",
        "import statsmodels.api as sm\n",
        "X_fw = df[['Income', 'Family', 'CCAvg', 'Education', 'Mortgage','Securities_Account', 'CD_Account']].values\n",
        "\n",
        "X_fw=sm.add_constant(X_fw)\n",
        "model=sm.OLS(y,X_fw).fit()\n",
        "model.summary()"
      ],
      "execution_count": null,
      "outputs": [
        {
          "output_type": "stream",
          "name": "stderr",
          "text": [
            "/usr/local/lib/python3.7/dist-packages/statsmodels/tools/_testing.py:19: FutureWarning: pandas.util.testing is deprecated. Use the functions in the public API at pandas.testing instead.\n",
            "  import pandas.util.testing as tm\n"
          ]
        },
        {
          "output_type": "execute_result",
          "data": {
            "text/html": [
              "<table class=\"simpletable\">\n",
              "<caption>OLS Regression Results</caption>\n",
              "<tr>\n",
              "  <th>Dep. Variable:</th>         <td>Target</td>      <th>  R-squared:         </th> <td>   0.378</td>\n",
              "</tr>\n",
              "<tr>\n",
              "  <th>Model:</th>                   <td>OLS</td>       <th>  Adj. R-squared:    </th> <td>   0.377</td>\n",
              "</tr>\n",
              "<tr>\n",
              "  <th>Method:</th>             <td>Least Squares</td>  <th>  F-statistic:       </th> <td>   433.7</td>\n",
              "</tr>\n",
              "<tr>\n",
              "  <th>Date:</th>             <td>Mon, 06 Dec 2021</td> <th>  Prob (F-statistic):</th>  <td>  0.00</td> \n",
              "</tr>\n",
              "<tr>\n",
              "  <th>Time:</th>                 <td>23:17:19</td>     <th>  Log-Likelihood:    </th> <td>  203.96</td>\n",
              "</tr>\n",
              "<tr>\n",
              "  <th>No. Observations:</th>      <td>  5000</td>      <th>  AIC:               </th> <td>  -391.9</td>\n",
              "</tr>\n",
              "<tr>\n",
              "  <th>Df Residuals:</th>          <td>  4992</td>      <th>  BIC:               </th> <td>  -339.8</td>\n",
              "</tr>\n",
              "<tr>\n",
              "  <th>Df Model:</th>              <td>     7</td>      <th>                     </th>     <td> </td>   \n",
              "</tr>\n",
              "<tr>\n",
              "  <th>Covariance Type:</th>      <td>nonrobust</td>    <th>                     </th>     <td> </td>   \n",
              "</tr>\n",
              "</table>\n",
              "<table class=\"simpletable\">\n",
              "<tr>\n",
              "    <td></td>       <th>coef</th>     <th>std err</th>      <th>t</th>      <th>P>|t|</th>  <th>[0.025</th>    <th>0.975]</th>  \n",
              "</tr>\n",
              "<tr>\n",
              "  <th>const</th> <td>   -0.3924</td> <td>    0.013</td> <td>  -30.064</td> <td> 0.000</td> <td>   -0.418</td> <td>   -0.367</td>\n",
              "</tr>\n",
              "<tr>\n",
              "  <th>x1</th>    <td>    0.0030</td> <td> 9.73e-05</td> <td>   30.996</td> <td> 0.000</td> <td>    0.003</td> <td>    0.003</td>\n",
              "</tr>\n",
              "<tr>\n",
              "  <th>x2</th>    <td>    0.0326</td> <td>    0.003</td> <td>   11.218</td> <td> 0.000</td> <td>    0.027</td> <td>    0.038</td>\n",
              "</tr>\n",
              "<tr>\n",
              "  <th>x3</th>    <td>    0.0123</td> <td>    0.002</td> <td>    4.978</td> <td> 0.000</td> <td>    0.007</td> <td>    0.017</td>\n",
              "</tr>\n",
              "<tr>\n",
              "  <th>x4</th>    <td>    0.0784</td> <td>    0.004</td> <td>   19.635</td> <td> 0.000</td> <td>    0.071</td> <td>    0.086</td>\n",
              "</tr>\n",
              "<tr>\n",
              "  <th>x5</th>    <td> 7.254e-05</td> <td> 3.31e-05</td> <td>    2.190</td> <td> 0.029</td> <td> 7.59e-06</td> <td>    0.000</td>\n",
              "</tr>\n",
              "<tr>\n",
              "  <th>x6</th>    <td>   -0.0509</td> <td>    0.011</td> <td>   -4.481</td> <td> 0.000</td> <td>   -0.073</td> <td>   -0.029</td>\n",
              "</tr>\n",
              "<tr>\n",
              "  <th>x7</th>    <td>    0.2926</td> <td>    0.015</td> <td>   19.694</td> <td> 0.000</td> <td>    0.263</td> <td>    0.322</td>\n",
              "</tr>\n",
              "</table>\n",
              "<table class=\"simpletable\">\n",
              "<tr>\n",
              "  <th>Omnibus:</th>       <td>1335.318</td> <th>  Durbin-Watson:     </th> <td>   1.961</td>\n",
              "</tr>\n",
              "<tr>\n",
              "  <th>Prob(Omnibus):</th>  <td> 0.000</td>  <th>  Jarque-Bera (JB):  </th> <td>3541.485</td>\n",
              "</tr>\n",
              "<tr>\n",
              "  <th>Skew:</th>           <td> 1.429</td>  <th>  Prob(JB):          </th> <td>    0.00</td>\n",
              "</tr>\n",
              "<tr>\n",
              "  <th>Kurtosis:</th>       <td> 5.971</td>  <th>  Cond. No.          </th> <td>    622.</td>\n",
              "</tr>\n",
              "</table><br/><br/>Warnings:<br/>[1] Standard Errors assume that the covariance matrix of the errors is correctly specified."
            ],
            "text/plain": [
              "<class 'statsmodels.iolib.summary.Summary'>\n",
              "\"\"\"\n",
              "                            OLS Regression Results                            \n",
              "==============================================================================\n",
              "Dep. Variable:                 Target   R-squared:                       0.378\n",
              "Model:                            OLS   Adj. R-squared:                  0.377\n",
              "Method:                 Least Squares   F-statistic:                     433.7\n",
              "Date:                Mon, 06 Dec 2021   Prob (F-statistic):               0.00\n",
              "Time:                        23:17:19   Log-Likelihood:                 203.96\n",
              "No. Observations:                5000   AIC:                            -391.9\n",
              "Df Residuals:                    4992   BIC:                            -339.8\n",
              "Df Model:                           7                                         \n",
              "Covariance Type:            nonrobust                                         \n",
              "==============================================================================\n",
              "                 coef    std err          t      P>|t|      [0.025      0.975]\n",
              "------------------------------------------------------------------------------\n",
              "const         -0.3924      0.013    -30.064      0.000      -0.418      -0.367\n",
              "x1             0.0030   9.73e-05     30.996      0.000       0.003       0.003\n",
              "x2             0.0326      0.003     11.218      0.000       0.027       0.038\n",
              "x3             0.0123      0.002      4.978      0.000       0.007       0.017\n",
              "x4             0.0784      0.004     19.635      0.000       0.071       0.086\n",
              "x5          7.254e-05   3.31e-05      2.190      0.029    7.59e-06       0.000\n",
              "x6            -0.0509      0.011     -4.481      0.000      -0.073      -0.029\n",
              "x7             0.2926      0.015     19.694      0.000       0.263       0.322\n",
              "==============================================================================\n",
              "Omnibus:                     1335.318   Durbin-Watson:                   1.961\n",
              "Prob(Omnibus):                  0.000   Jarque-Bera (JB):             3541.485\n",
              "Skew:                           1.429   Prob(JB):                         0.00\n",
              "Kurtosis:                       5.971   Cond. No.                         622.\n",
              "==============================================================================\n",
              "\n",
              "Warnings:\n",
              "[1] Standard Errors assume that the covariance matrix of the errors is correctly specified.\n",
              "\"\"\""
            ]
          },
          "metadata": {},
          "execution_count": 70
        }
      ]
    },
    {
      "cell_type": "markdown",
      "metadata": {
        "id": "TNJB_Q9GE4AK"
      },
      "source": [
        "- Segun Selección progresiva nos quedamos con todas las variables a excepcion de la variable Experience.\n",
        "____________"
      ]
    },
    {
      "cell_type": "markdown",
      "metadata": {
        "id": "TWTFvYAiHfNY"
      },
      "source": [
        "#### 2.3.3. Backward Elimination"
      ]
    },
    {
      "cell_type": "code",
      "metadata": {
        "colab": {
          "base_uri": "https://localhost:8080/"
        },
        "id": "n3a7MFxZHnXb",
        "outputId": "1e0222ad-b3e6-4d4a-aea5-4b00550072bf"
      },
      "source": [
        "import statsmodels.api as sm\n",
        "\n",
        "#columnas: ['Experience', 'Income', 'Family', 'CCAvg', 'Education', 'Mortgage','Securities_Account', 'CD_Account']\n",
        "X_fw = df[['Income', 'Family', 'CCAvg', 'Education', 'Mortgage',\n",
        "       'Securities_Account', 'CD_Account']].values\n",
        "\n",
        "X_fw=sm.add_constant(X_fw)\n",
        "model=sm.OLS(y,X_fw).fit()\n",
        "model.summary()"
      ],
      "execution_count": null,
      "outputs": [
        {
          "output_type": "execute_result",
          "data": {
            "text/html": [
              "<table class=\"simpletable\">\n",
              "<caption>OLS Regression Results</caption>\n",
              "<tr>\n",
              "  <th>Dep. Variable:</th>         <td>Target</td>      <th>  R-squared:         </th> <td>   0.378</td>\n",
              "</tr>\n",
              "<tr>\n",
              "  <th>Model:</th>                   <td>OLS</td>       <th>  Adj. R-squared:    </th> <td>   0.377</td>\n",
              "</tr>\n",
              "<tr>\n",
              "  <th>Method:</th>             <td>Least Squares</td>  <th>  F-statistic:       </th> <td>   433.7</td>\n",
              "</tr>\n",
              "<tr>\n",
              "  <th>Date:</th>             <td>Mon, 06 Dec 2021</td> <th>  Prob (F-statistic):</th>  <td>  0.00</td> \n",
              "</tr>\n",
              "<tr>\n",
              "  <th>Time:</th>                 <td>23:17:19</td>     <th>  Log-Likelihood:    </th> <td>  203.96</td>\n",
              "</tr>\n",
              "<tr>\n",
              "  <th>No. Observations:</th>      <td>  5000</td>      <th>  AIC:               </th> <td>  -391.9</td>\n",
              "</tr>\n",
              "<tr>\n",
              "  <th>Df Residuals:</th>          <td>  4992</td>      <th>  BIC:               </th> <td>  -339.8</td>\n",
              "</tr>\n",
              "<tr>\n",
              "  <th>Df Model:</th>              <td>     7</td>      <th>                     </th>     <td> </td>   \n",
              "</tr>\n",
              "<tr>\n",
              "  <th>Covariance Type:</th>      <td>nonrobust</td>    <th>                     </th>     <td> </td>   \n",
              "</tr>\n",
              "</table>\n",
              "<table class=\"simpletable\">\n",
              "<tr>\n",
              "    <td></td>       <th>coef</th>     <th>std err</th>      <th>t</th>      <th>P>|t|</th>  <th>[0.025</th>    <th>0.975]</th>  \n",
              "</tr>\n",
              "<tr>\n",
              "  <th>const</th> <td>   -0.3924</td> <td>    0.013</td> <td>  -30.064</td> <td> 0.000</td> <td>   -0.418</td> <td>   -0.367</td>\n",
              "</tr>\n",
              "<tr>\n",
              "  <th>x1</th>    <td>    0.0030</td> <td> 9.73e-05</td> <td>   30.996</td> <td> 0.000</td> <td>    0.003</td> <td>    0.003</td>\n",
              "</tr>\n",
              "<tr>\n",
              "  <th>x2</th>    <td>    0.0326</td> <td>    0.003</td> <td>   11.218</td> <td> 0.000</td> <td>    0.027</td> <td>    0.038</td>\n",
              "</tr>\n",
              "<tr>\n",
              "  <th>x3</th>    <td>    0.0123</td> <td>    0.002</td> <td>    4.978</td> <td> 0.000</td> <td>    0.007</td> <td>    0.017</td>\n",
              "</tr>\n",
              "<tr>\n",
              "  <th>x4</th>    <td>    0.0784</td> <td>    0.004</td> <td>   19.635</td> <td> 0.000</td> <td>    0.071</td> <td>    0.086</td>\n",
              "</tr>\n",
              "<tr>\n",
              "  <th>x5</th>    <td> 7.254e-05</td> <td> 3.31e-05</td> <td>    2.190</td> <td> 0.029</td> <td> 7.59e-06</td> <td>    0.000</td>\n",
              "</tr>\n",
              "<tr>\n",
              "  <th>x6</th>    <td>   -0.0509</td> <td>    0.011</td> <td>   -4.481</td> <td> 0.000</td> <td>   -0.073</td> <td>   -0.029</td>\n",
              "</tr>\n",
              "<tr>\n",
              "  <th>x7</th>    <td>    0.2926</td> <td>    0.015</td> <td>   19.694</td> <td> 0.000</td> <td>    0.263</td> <td>    0.322</td>\n",
              "</tr>\n",
              "</table>\n",
              "<table class=\"simpletable\">\n",
              "<tr>\n",
              "  <th>Omnibus:</th>       <td>1335.318</td> <th>  Durbin-Watson:     </th> <td>   1.961</td>\n",
              "</tr>\n",
              "<tr>\n",
              "  <th>Prob(Omnibus):</th>  <td> 0.000</td>  <th>  Jarque-Bera (JB):  </th> <td>3541.485</td>\n",
              "</tr>\n",
              "<tr>\n",
              "  <th>Skew:</th>           <td> 1.429</td>  <th>  Prob(JB):          </th> <td>    0.00</td>\n",
              "</tr>\n",
              "<tr>\n",
              "  <th>Kurtosis:</th>       <td> 5.971</td>  <th>  Cond. No.          </th> <td>    622.</td>\n",
              "</tr>\n",
              "</table><br/><br/>Warnings:<br/>[1] Standard Errors assume that the covariance matrix of the errors is correctly specified."
            ],
            "text/plain": [
              "<class 'statsmodels.iolib.summary.Summary'>\n",
              "\"\"\"\n",
              "                            OLS Regression Results                            \n",
              "==============================================================================\n",
              "Dep. Variable:                 Target   R-squared:                       0.378\n",
              "Model:                            OLS   Adj. R-squared:                  0.377\n",
              "Method:                 Least Squares   F-statistic:                     433.7\n",
              "Date:                Mon, 06 Dec 2021   Prob (F-statistic):               0.00\n",
              "Time:                        23:17:19   Log-Likelihood:                 203.96\n",
              "No. Observations:                5000   AIC:                            -391.9\n",
              "Df Residuals:                    4992   BIC:                            -339.8\n",
              "Df Model:                           7                                         \n",
              "Covariance Type:            nonrobust                                         \n",
              "==============================================================================\n",
              "                 coef    std err          t      P>|t|      [0.025      0.975]\n",
              "------------------------------------------------------------------------------\n",
              "const         -0.3924      0.013    -30.064      0.000      -0.418      -0.367\n",
              "x1             0.0030   9.73e-05     30.996      0.000       0.003       0.003\n",
              "x2             0.0326      0.003     11.218      0.000       0.027       0.038\n",
              "x3             0.0123      0.002      4.978      0.000       0.007       0.017\n",
              "x4             0.0784      0.004     19.635      0.000       0.071       0.086\n",
              "x5          7.254e-05   3.31e-05      2.190      0.029    7.59e-06       0.000\n",
              "x6            -0.0509      0.011     -4.481      0.000      -0.073      -0.029\n",
              "x7             0.2926      0.015     19.694      0.000       0.263       0.322\n",
              "==============================================================================\n",
              "Omnibus:                     1335.318   Durbin-Watson:                   1.961\n",
              "Prob(Omnibus):                  0.000   Jarque-Bera (JB):             3541.485\n",
              "Skew:                           1.429   Prob(JB):                         0.00\n",
              "Kurtosis:                       5.971   Cond. No.                         622.\n",
              "==============================================================================\n",
              "\n",
              "Warnings:\n",
              "[1] Standard Errors assume that the covariance matrix of the errors is correctly specified.\n",
              "\"\"\""
            ]
          },
          "metadata": {},
          "execution_count": 71
        }
      ]
    },
    {
      "cell_type": "markdown",
      "metadata": {
        "id": "a2X-TIsAJZUK"
      },
      "source": [
        "- Segun Selección progresiva nos quedamos con todas las variables menos con experience."
      ]
    },
    {
      "cell_type": "code",
      "metadata": {
        "id": "ppNSlWpnMApe"
      },
      "source": [
        "df = df.drop(['Experience'], axis=1)"
      ],
      "execution_count": null,
      "outputs": []
    },
    {
      "cell_type": "markdown",
      "metadata": {
        "id": "-9Wp6CM6L6_V"
      },
      "source": [
        "Entonces eliminamos Experience\n",
        "______"
      ]
    },
    {
      "cell_type": "markdown",
      "metadata": {
        "id": "2FsrkaoFLqqC"
      },
      "source": [
        "## **3. Balanceo de dato y estrategia de division**"
      ]
    },
    {
      "cell_type": "code",
      "metadata": {
        "colab": {
          "base_uri": "https://localhost:8080/"
        },
        "id": "Vaxo-ZO9TlAI",
        "outputId": "e998d939-28d5-404e-cecd-5d0820f4557e"
      },
      "source": [
        "df['Target'].value_counts()"
      ],
      "execution_count": null,
      "outputs": [
        {
          "output_type": "execute_result",
          "data": {
            "text/plain": [
              "0    4520\n",
              "1     480\n",
              "Name: Target, dtype: int64"
            ]
          },
          "metadata": {},
          "execution_count": 73
        }
      ]
    },
    {
      "cell_type": "code",
      "metadata": {
        "colab": {
          "base_uri": "https://localhost:8080/",
          "height": 334
        },
        "id": "dsZKLh_KTqmj",
        "outputId": "5a5817e5-7f5e-4f20-a9bc-98ef43ffb12c"
      },
      "source": [
        "g = sns.countplot(df['Target'])\n",
        "g.set_xticklabels(['0','1'])\n",
        "plt.show()"
      ],
      "execution_count": null,
      "outputs": [
        {
          "output_type": "stream",
          "name": "stderr",
          "text": [
            "/usr/local/lib/python3.7/dist-packages/seaborn/_decorators.py:43: FutureWarning: Pass the following variable as a keyword arg: x. From version 0.12, the only valid positional argument will be `data`, and passing other arguments without an explicit keyword will result in an error or misinterpretation.\n",
            "  FutureWarning\n"
          ]
        },
        {
          "output_type": "display_data",
          "data": {
            "image/png": "[encoded data removed]",
            "text/plain": [
              "<Figure size 432x288 with 1 Axes>"
            ]
          },
          "metadata": {
            "needs_background": "light"
          }
        }
      ]
    },
    {
      "cell_type": "markdown",
      "metadata": {
        "id": "xHYh4MYymvFr"
      },
      "source": [
        "- Observamos que el desbalance es demasiado grande por lo que no es recomendable usar **UnderSampling**."
      ]
    },
    {
      "cell_type": "code",
      "metadata": {
        "colab": {
          "base_uri": "https://localhost:8080/"
        },
        "id": "GRs2yoooTzYv",
        "outputId": "79135480-c979-427d-efaa-798937574a09"
      },
      "source": [
        "class_count_0, class_count_1 = df['Target'].value_counts()\n",
        "\n",
        "class_0 = df[df['Target'] == 0]\n",
        "class_1 = df[df['Target'] == 1]\n",
        "print('Target 0:', class_0.shape)\n",
        "print('Target 1:', class_1.shape)"
      ],
      "execution_count": null,
      "outputs": [
        {
          "output_type": "stream",
          "name": "stdout",
          "text": [
            "Target 0: (4520, 8)\n",
            "Target 1: (480, 8)\n"
          ]
        }
      ]
    },
    {
      "cell_type": "code",
      "metadata": {
        "id": "v-yp8cBDnYOI"
      },
      "source": [
        "X = df.drop(['Target'],axis=1)\n",
        "y = df['Target']"
      ],
      "execution_count": null,
      "outputs": []
    },
    {
      "cell_type": "markdown",
      "metadata": {
        "id": "vpvcR_FqnvwK"
      },
      "source": [
        "### 3.1. OverSampling"
      ]
    },
    {
      "cell_type": "code",
      "metadata": {
        "colab": {
          "base_uri": "https://localhost:8080/"
        },
        "id": "o3D2WyIGogRD",
        "outputId": "8a713c50-9e5e-4b36-ccfb-c1ce3a92003e"
      },
      "source": [
        "# over\n",
        "import collections\n",
        "import imblearn\n",
        "from imblearn.over_sampling import RandomOverSampler\n",
        "\n",
        "ros = RandomOverSampler(random_state=123)\n",
        "x_os, y_os = ros.fit_resample(X, y)\n",
        "\n",
        "print('Distribucion Original:', collections.Counter(y))\n",
        "print('Distribucion OverSampling', collections.Counter(y_os))"
      ],
      "execution_count": null,
      "outputs": [
        {
          "output_type": "stream",
          "name": "stdout",
          "text": [
            "Distribucion Original: Counter({0: 4520, 1: 480})\n",
            "Distribucion OverSampling Counter({0: 4520, 1: 4520})\n"
          ]
        }
      ]
    },
    {
      "cell_type": "markdown",
      "metadata": {
        "id": "JiHZjS8AyM02"
      },
      "source": [
        "- No se ve tan recomendable debido al grn desbalance podría generarse sobre-estimación o sub-estimación."
      ]
    },
    {
      "cell_type": "markdown",
      "metadata": {
        "id": "ziKWfPgPolsO"
      },
      "source": [
        "### 3.2. Tomek Links"
      ]
    },
    {
      "cell_type": "code",
      "metadata": {
        "colab": {
          "base_uri": "https://localhost:8080/"
        },
        "id": "7PKOmA2gou2b",
        "outputId": "f9c4a9aa-40b2-4584-f5d7-5590b7c1c235"
      },
      "source": [
        "#  tomek\n",
        "import collections\n",
        "from imblearn.under_sampling import TomekLinks\n",
        "\n",
        "tl = TomekLinks()\n",
        "x_tl, y_tl = tl.fit_resample(X, y)\n",
        "\n",
        "print('Original dataset shape', collections.Counter(y))\n",
        "print('Resample dataset shape', collections.Counter(y_tl))"
      ],
      "execution_count": null,
      "outputs": [
        {
          "output_type": "stream",
          "name": "stdout",
          "text": [
            "Original dataset shape Counter({0: 4520, 1: 480})\n",
            "Resample dataset shape Counter({0: 4448, 1: 480})\n"
          ]
        }
      ]
    },
    {
      "cell_type": "markdown",
      "metadata": {
        "id": "pLMhYJ2iqnLX"
      },
      "source": [
        "### 3.3. SMOTE"
      ]
    },
    {
      "cell_type": "code",
      "metadata": {
        "colab": {
          "base_uri": "https://localhost:8080/"
        },
        "id": "LZTRvvH3yHLv",
        "outputId": "81465446-5a31-4628-efa0-ca5b55150f24"
      },
      "source": [
        "from imblearn.over_sampling import SMOTE\n",
        "import collections\n",
        "smote = SMOTE(0.8) #porcentaje\n",
        "\n",
        "# fit predictor and target variable\n",
        "x_smote, y_smote = smote.fit_resample(X, y)\n",
        "\n",
        "print('Original dataset shape', collections.Counter(y))\n",
        "print('Resample dataset shape', collections.Counter(y_smote))"
      ],
      "execution_count": null,
      "outputs": [
        {
          "output_type": "stream",
          "name": "stdout",
          "text": [
            "Original dataset shape Counter({0: 4520, 1: 480})\n",
            "Resample dataset shape Counter({0: 4520, 1: 3616})\n"
          ]
        },
        {
          "output_type": "stream",
          "name": "stderr",
          "text": [
            "/usr/local/lib/python3.7/dist-packages/imblearn/utils/_validation.py:591: FutureWarning: Pass sampling_strategy=0.8 as keyword args. From version 0.9 passing these as positional arguments will result in an error\n",
            "  FutureWarning,\n"
          ]
        }
      ]
    },
    {
      "cell_type": "markdown",
      "metadata": {
        "id": "p7C-h-5mGscu"
      },
      "source": [
        "### 3.4 Estrategia de division"
      ]
    },
    {
      "cell_type": "code",
      "metadata": {
        "id": "QSKW4lGkIrvZ"
      },
      "source": [
        "from sklearn.model_selection import train_test_split\n",
        "from collections import Counter\n",
        "#X_train, X_test, y_train, y_test = train_test_split(X, y, random_state= 123, stratify=y, test_size=0.2)\n",
        "X_train, X_test, y_train, y_test = train_test_split(x_smote, y_smote, random_state= 321, stratify=y_smote, test_size=0.2)"
      ],
      "execution_count": null,
      "outputs": []
    },
    {
      "cell_type": "code",
      "metadata": {
        "colab": {
          "base_uri": "https://localhost:8080/"
        },
        "id": "412KokS5o_3j",
        "outputId": "3e9349ec-abb3-441a-a598-4b80055c6d52"
      },
      "source": [
        "print(X_train.shape, X_test.shape, y_train.shape, y_test.shape)"
      ],
      "execution_count": null,
      "outputs": [
        {
          "output_type": "stream",
          "name": "stdout",
          "text": [
            "(6508, 7) (1628, 7) (6508,) (1628,)\n"
          ]
        }
      ]
    },
    {
      "cell_type": "markdown",
      "metadata": {
        "id": "sYhUV0BBpOQN"
      },
      "source": [
        "- Tenemos 7232 registros como entrenamiento y 1808 como evaluacion."
      ]
    },
    {
      "cell_type": "code",
      "metadata": {
        "colab": {
          "base_uri": "https://localhost:8080/"
        },
        "id": "hzFN1XTfpA9i",
        "outputId": "10f7d0d7-1cac-4ed4-d51d-fee8d3f70102"
      },
      "source": [
        "print(Counter(y_train))\n",
        "print(Counter(y_test))"
      ],
      "execution_count": null,
      "outputs": [
        {
          "output_type": "stream",
          "name": "stdout",
          "text": [
            "Counter({0: 3616, 1: 2892})\n",
            "Counter({0: 904, 1: 724})\n"
          ]
        }
      ]
    },
    {
      "cell_type": "markdown",
      "metadata": {
        "id": "pp1UVnXwp1z3"
      },
      "source": [
        "- Entrenamiento: tiene 3616 registros de la clase 1 y 3616 de la clase 0\n",
        "- Evaluacion: tiene 904 registros de la clase 0 y 904 de la clase 1"
      ]
    },
    {
      "cell_type": "markdown",
      "metadata": {
        "id": "NVpoY1k617N5"
      },
      "source": [
        "## **4. MODELO DE REGRESION LOGISTICA**"
      ]
    },
    {
      "cell_type": "code",
      "metadata": {
        "colab": {
          "base_uri": "https://localhost:8080/"
        },
        "id": "dMyaNECktKZK",
        "outputId": "6c34c991-8796-4535-ce04-eb5a67876357"
      },
      "source": [
        "from sklearn.linear_model import LogisticRegression\n",
        "from sklearn import metrics\n",
        "logreg = LogisticRegression()\n",
        "logreg.fit(X_train, y_train)\n",
        "y_pred = logreg.predict(X_test)"
      ],
      "execution_count": null,
      "outputs": [
        {
          "output_type": "stream",
          "name": "stderr",
          "text": [
            "/usr/local/lib/python3.7/dist-packages/sklearn/linear_model/_logistic.py:818: ConvergenceWarning: lbfgs failed to converge (status=1):\n",
            "STOP: TOTAL NO. of ITERATIONS REACHED LIMIT.\n",
            "\n",
            "Increase the number of iterations (max_iter) or scale the data as shown in:\n",
            "    https://scikit-learn.org/stable/modules/preprocessing.html\n",
            "Please also refer to the documentation for alternative solver options:\n",
            "    https://scikit-learn.org/stable/modules/linear_model.html#logistic-regression\n",
            "  extra_warning_msg=_LOGISTIC_SOLVER_CONVERGENCE_MSG,\n"
          ]
        }
      ]
    },
    {
      "cell_type": "code",
      "metadata": {
        "colab": {
          "base_uri": "https://localhost:8080/"
        },
        "id": "BDZ70GxOMlUJ",
        "outputId": "be324059-3259-4676-9c16-fdeb38d475f0"
      },
      "source": [
        "from sklearn import metrics\n",
        "cnf_matrix = metrics.confusion_matrix(y_test, y_pred)\n",
        "cnf_matrix"
      ],
      "execution_count": null,
      "outputs": [
        {
          "output_type": "execute_result",
          "data": {
            "text/plain": [
              "array([[808,  96],\n",
              "       [105, 619]])"
            ]
          },
          "metadata": {},
          "execution_count": 84
        }
      ]
    },
    {
      "cell_type": "code",
      "metadata": {
        "colab": {
          "base_uri": "https://localhost:8080/",
          "height": 341
        },
        "id": "RWuLMhy_MlMh",
        "outputId": "28daf4d2-be74-4675-dd5a-de3fed7c0719"
      },
      "source": [
        "class_names=[0,1] # name  of classes\n",
        "fig, ax = plt.subplots()\n",
        "tick_marks = np.arange(len(class_names))\n",
        "plt.xticks(tick_marks, class_names)\n",
        "plt.yticks(tick_marks, class_names)\n",
        "# create heatmap\n",
        "sns.heatmap(pd.DataFrame(cnf_matrix), annot=True, cmap=\"YlGnBu\" ,fmt='g')\n",
        "ax.xaxis.set_label_position(\"top\")\n",
        "plt.tight_layout()\n",
        "plt.title('Matriz de Confusión', y=1.1)\n",
        "plt.ylabel('Valor Real')\n",
        "plt.xlabel('Valor Predicho')"
      ],
      "execution_count": null,
      "outputs": [
        {
          "output_type": "execute_result",
          "data": {
            "text/plain": [
              "Text(0.5, 257.44, 'Valor Predicho')"
            ]
          },
          "metadata": {},
          "execution_count": 85
        },
        {
          "output_type": "display_data",
          "data": {
            "image/png": "[encoded data removed]",
            "text/plain": [
              "<Figure size 432x288 with 2 Axes>"
            ]
          },
          "metadata": {
            "needs_background": "light"
          }
        }
      ]
    },
    {
      "cell_type": "code",
      "metadata": {
        "colab": {
          "base_uri": "https://localhost:8080/"
        },
        "id": "TaOVdqzVNg97",
        "outputId": "38a4fbf4-745c-4702-f08f-57e6d5a11c3c"
      },
      "source": [
        "print(\"Accuracy:\",metrics.accuracy_score(y_test, y_pred))\n",
        "print(\"Precision:\",metrics.precision_score(y_test, y_pred))\n",
        "print(\"Recall:\",metrics.recall_score(y_test, y_pred))\n",
        "tn, fp, fn, tp = cnf_matrix.ravel()\n",
        "specificity = tn / (tn+fp)\n",
        "print(\"Specificity:\",specificity)"
      ],
      "execution_count": null,
      "outputs": [
        {
          "output_type": "stream",
          "name": "stdout",
          "text": [
            "Accuracy: 0.8765356265356266\n",
            "Precision: 0.8657342657342657\n",
            "Recall: 0.8549723756906077\n",
            "Specificity: 0.8938053097345132\n"
          ]
        }
      ]
    },
    {
      "cell_type": "markdown",
      "metadata": {
        "id": "8nM7NCOj2VY9"
      },
      "source": [
        "## **5. MODELO DE RANDOM FOREST**"
      ]
    },
    {
      "cell_type": "code",
      "metadata": {
        "id": "n-qtv6UA2eRc"
      },
      "source": [
        "from sklearn.ensemble import RandomForestClassifier\n",
        "\n",
        "rnd_forest = RandomForestClassifier(n_estimators=200, criterion='entropy', \n",
        "                                     random_state=123)\n",
        "rnd_forest.fit(X_train, y_train)\n",
        "y_pred = rnd_forest.predict(X_test)"
      ],
      "execution_count": null,
      "outputs": []
    },
    {
      "cell_type": "code",
      "metadata": {
        "colab": {
          "base_uri": "https://localhost:8080/"
        },
        "id": "6tt98bB_S2HE",
        "outputId": "3286953c-9592-4c70-a122-d99b1a3cbf42"
      },
      "source": [
        "from sklearn import metrics\n",
        "cnf_matrix = metrics.confusion_matrix(y_test, y_pred)\n",
        "cnf_matrix"
      ],
      "execution_count": null,
      "outputs": [
        {
          "output_type": "execute_result",
          "data": {
            "text/plain": [
              "array([[890,  14],\n",
              "       [ 20, 704]])"
            ]
          },
          "metadata": {},
          "execution_count": 88
        }
      ]
    },
    {
      "cell_type": "code",
      "metadata": {
        "colab": {
          "base_uri": "https://localhost:8080/",
          "height": 342
        },
        "id": "kaduJudaS8zF",
        "outputId": "43ea5e96-16f5-482c-ee16-7e958ce35842"
      },
      "source": [
        "class_names=[0,1] # name  of classes\n",
        "fig, ax = plt.subplots()\n",
        "tick_marks = np.arange(len(class_names))\n",
        "plt.xticks(tick_marks, class_names)\n",
        "plt.yticks(tick_marks, class_names)\n",
        "# create heatmap\n",
        "sns.heatmap(pd.DataFrame(cnf_matrix), annot=True, cmap=\"YlGnBu\" ,fmt='g')\n",
        "ax.xaxis.set_label_position(\"top\")\n",
        "plt.tight_layout()\n",
        "plt.title('Matriz de Confusión', y=1.1)\n",
        "plt.ylabel('Valor Real')\n",
        "plt.xlabel('Valor Predicho')"
      ],
      "execution_count": null,
      "outputs": [
        {
          "output_type": "execute_result",
          "data": {
            "text/plain": [
              "Text(0.5, 257.44, 'Valor Predicho')"
            ]
          },
          "metadata": {},
          "execution_count": 89
        },
        {
          "output_type": "display_data",
          "data": {
            "image/png": "[encoded data removed]",
            "text/plain": [
              "<Figure size 432x288 with 2 Axes>"
            ]
          },
          "metadata": {
            "needs_background": "light"
          }
        }
      ]
    },
    {
      "cell_type": "code",
      "metadata": {
        "colab": {
          "base_uri": "https://localhost:8080/"
        },
        "id": "0x3FCxJ6TczG",
        "outputId": "5febb2d7-f5b3-44b4-a1ea-8800c059276f"
      },
      "source": [
        "print(\"Accuracy:\",metrics.accuracy_score(y_test, y_pred))\n",
        "print(\"Precision:\",metrics.precision_score(y_test, y_pred))\n",
        "print(\"Recall:\",metrics.recall_score(y_test, y_pred))\n",
        "tn, fp, fn, tp = cnf_matrix.ravel()\n",
        "specificity = tn / (tn+fp)\n",
        "print(\"Specificity:\",specificity)"
      ],
      "execution_count": null,
      "outputs": [
        {
          "output_type": "stream",
          "name": "stdout",
          "text": [
            "Accuracy: 0.9791154791154791\n",
            "Precision: 0.9805013927576601\n",
            "Recall: 0.9723756906077348\n",
            "Specificity: 0.9845132743362832\n"
          ]
        }
      ]
    },
    {
      "cell_type": "markdown",
      "metadata": {
        "id": "v6HkCl7X2fXc"
      },
      "source": [
        "## **6.MODELO DE GBM**"
      ]
    },
    {
      "cell_type": "code",
      "metadata": {
        "id": "pnFyUsYXTs9R"
      },
      "source": [
        "from sklearn.ensemble import GradientBoostingClassifier\n",
        "\n",
        "gbm = GradientBoostingClassifier(learning_rate=0.01)\n",
        "gbm.fit(X_train, y_train)\n",
        "y_pred = gbm.predict(X_test)"
      ],
      "execution_count": null,
      "outputs": []
    },
    {
      "cell_type": "code",
      "metadata": {
        "colab": {
          "base_uri": "https://localhost:8080/"
        },
        "id": "w-Jov_cLTszi",
        "outputId": "f32653d9-8ee2-4ba1-f2ed-7eb0e7852ae7"
      },
      "source": [
        "from sklearn import metrics\n",
        "cnf_matrix = metrics.confusion_matrix(y_test, y_pred)\n",
        "cnf_matrix"
      ],
      "execution_count": null,
      "outputs": [
        {
          "output_type": "execute_result",
          "data": {
            "text/plain": [
              "array([[867,  37],\n",
              "       [ 51, 673]])"
            ]
          },
          "metadata": {},
          "execution_count": 92
        }
      ]
    },
    {
      "cell_type": "code",
      "metadata": {
        "colab": {
          "base_uri": "https://localhost:8080/",
          "height": 342
        },
        "id": "vBRn1wQ9UDTl",
        "outputId": "e282aa26-aec1-422e-d4b2-801725a3eee9"
      },
      "source": [
        "class_names=[0,1] \n",
        "fig, ax = plt.subplots()\n",
        "tick_marks = np.arange(len(class_names))\n",
        "plt.xticks(tick_marks, class_names)\n",
        "plt.yticks(tick_marks, class_names)\n",
        "\n",
        "sns.heatmap(pd.DataFrame(cnf_matrix), annot=True, cmap=\"YlGnBu\" ,fmt='g')\n",
        "ax.xaxis.set_label_position(\"top\")\n",
        "plt.tight_layout()\n",
        "plt.title('Matriz de Confusión', y=1.1)\n",
        "plt.ylabel('Valor Real')\n",
        "plt.xlabel('Valor Predicho')"
      ],
      "execution_count": null,
      "outputs": [
        {
          "output_type": "execute_result",
          "data": {
            "text/plain": [
              "Text(0.5, 257.44, 'Valor Predicho')"
            ]
          },
          "metadata": {},
          "execution_count": 93
        },
        {
          "output_type": "display_data",
          "data": {
            "image/png": "[encoded data removed]",
            "text/plain": [
              "<Figure size 432x288 with 2 Axes>"
            ]
          },
          "metadata": {
            "needs_background": "light"
          }
        }
      ]
    },
    {
      "cell_type": "code",
      "metadata": {
        "colab": {
          "base_uri": "https://localhost:8080/"
        },
        "id": "nQFgc5ua2lCa",
        "outputId": "e7b691a5-7bdf-4d42-bc49-962cc685b6d2"
      },
      "source": [
        "print(\"Accuracy:\",metrics.accuracy_score(y_test, y_pred))\n",
        "print(\"Precision:\",metrics.precision_score(y_test, y_pred))\n",
        "print(\"Recall:\",metrics.recall_score(y_test, y_pred))\n",
        "tn, fp, fn, tp = cnf_matrix.ravel()\n",
        "specificity = tn / (tn+fp)\n",
        "print(\"Specificity:\",specificity)"
      ],
      "execution_count": null,
      "outputs": [
        {
          "output_type": "stream",
          "name": "stdout",
          "text": [
            "Accuracy: 0.9459459459459459\n",
            "Precision: 0.9478873239436619\n",
            "Recall: 0.9295580110497238\n",
            "Specificity: 0.959070796460177\n"
          ]
        }
      ]
    },
    {
      "cell_type": "markdown",
      "metadata": {
        "id": "bcqcfa3o2mDL"
      },
      "source": [
        "## **7. ENSAMBLE SOFT VOTING**"
      ]
    },
    {
      "cell_type": "code",
      "metadata": {
        "colab": {
          "base_uri": "https://localhost:8080/"
        },
        "id": "N2CRbqzyDmFp",
        "outputId": "85841743-7535-4270-88df-d106ba82818d"
      },
      "source": [
        "from sklearn.ensemble import VotingClassifier\n",
        "\n",
        "lista_modelos = []\n",
        "lista_modelos.append(('LR',  LogisticRegression()))\n",
        "lista_modelos.append(('RF', RandomForestClassifier(n_estimators=200)))\n",
        "lista_modelos.append(('GBM', GradientBoostingClassifier(learning_rate=0.01)))\n",
        "\n",
        "\n",
        "soft_ensemble = VotingClassifier(estimators=lista_modelos, voting='soft')\n",
        "\n",
        "soft_ensemble.fit(X_train, y_train)\n",
        "\n",
        "y_pred_soft = soft_ensemble.predict(X_test)"
      ],
      "execution_count": null,
      "outputs": [
        {
          "output_type": "stream",
          "name": "stderr",
          "text": [
            "/usr/local/lib/python3.7/dist-packages/sklearn/linear_model/_logistic.py:818: ConvergenceWarning: lbfgs failed to converge (status=1):\n",
            "STOP: TOTAL NO. of ITERATIONS REACHED LIMIT.\n",
            "\n",
            "Increase the number of iterations (max_iter) or scale the data as shown in:\n",
            "    https://scikit-learn.org/stable/modules/preprocessing.html\n",
            "Please also refer to the documentation for alternative solver options:\n",
            "    https://scikit-learn.org/stable/modules/linear_model.html#logistic-regression\n",
            "  extra_warning_msg=_LOGISTIC_SOLVER_CONVERGENCE_MSG,\n"
          ]
        }
      ]
    },
    {
      "cell_type": "code",
      "metadata": {
        "colab": {
          "base_uri": "https://localhost:8080/"
        },
        "id": "RaK0n1xgEtqj",
        "outputId": "592ecb7e-cbdc-4a6f-f171-603ff5381861"
      },
      "source": [
        "from sklearn import metrics\n",
        "cnf_matrix = metrics.confusion_matrix(y_test, y_pred_soft)\n",
        "cnf_matrix"
      ],
      "execution_count": null,
      "outputs": [
        {
          "output_type": "execute_result",
          "data": {
            "text/plain": [
              "array([[886,  18],\n",
              "       [ 41, 683]])"
            ]
          },
          "metadata": {},
          "execution_count": 100
        }
      ]
    },
    {
      "cell_type": "code",
      "metadata": {
        "colab": {
          "base_uri": "https://localhost:8080/",
          "height": 330
        },
        "id": "-Zs5dD7KEwtv",
        "outputId": "cf53846b-3ec0-4abc-8bf5-9f61a0899723"
      },
      "source": [
        "class_names=[0,1] # name  of classes\n",
        "fig, ax = plt.subplots()\n",
        "tick_marks = np.arange(len(class_names))\n",
        "plt.xticks(tick_marks, class_names)\n",
        "plt.yticks(tick_marks, class_names)\n",
        "# create heatmap\n",
        "sns.heatmap(pd.DataFrame(cnf_matrix), annot=True, cmap=\"YlGnBu\" ,fmt='g')\n",
        "ax.xaxis.set_label_position(\"top\")\n",
        "plt.tight_layout()\n",
        "plt.title('Matriz de Confusión', y=1.1)\n",
        "plt.ylabel('Valor Real')"
      ],
      "execution_count": null,
      "outputs": [
        {
          "output_type": "execute_result",
          "data": {
            "text/plain": [
              "Text(33.0, 0.5, 'Valor Real')"
            ]
          },
          "metadata": {},
          "execution_count": 101
        },
        {
          "output_type": "display_data",
          "data": {
            "image/png": "[encoded data removed]",
            "text/plain": [
              "<Figure size 432x288 with 2 Axes>"
            ]
          },
          "metadata": {
            "needs_background": "light"
          }
        }
      ]
    },
    {
      "cell_type": "code",
      "metadata": {
        "colab": {
          "base_uri": "https://localhost:8080/"
        },
        "id": "CS-M2e9bEyht",
        "outputId": "39d9b62d-b192-426a-cc69-5e0f14f3145f"
      },
      "source": [
        "print(\"Accuracy:\",metrics.accuracy_score(y_test, y_pred))\n",
        "print(\"Precision:\",metrics.precision_score(y_test, y_pred))\n",
        "print(\"Recall:\",metrics.recall_score(y_test, y_pred))\n",
        "tn, fp, fn, tp = cnf_matrix.ravel()\n",
        "specificity = tn / (tn+fp)\n",
        "print(\"Specificity:\",specificity)"
      ],
      "execution_count": null,
      "outputs": [
        {
          "output_type": "stream",
          "name": "stdout",
          "text": [
            "Accuracy: 0.9459459459459459\n",
            "Precision: 0.9478873239436619\n",
            "Recall: 0.9295580110497238\n",
            "Specificity: 0.9800884955752213\n"
          ]
        }
      ]
    },
    {
      "cell_type": "markdown",
      "metadata": {
        "id": "KNZcUPn3GGwJ"
      },
      "source": [
        "## **8. CONCLUSION**"
      ]
    },
    {
      "cell_type": "markdown",
      "metadata": {
        "id": "4Pw-dc0jGQ8u"
      },
      "source": [
        "El modelo por el que optaria seria el de RF pero su matriz de confuncion se ve muy buena  y esto no siempre significa que esta bien, puede haber sufrido de un sobre ajuste, por lo que me quedo con el modelo GBM."
      ]
    }
  ]
}